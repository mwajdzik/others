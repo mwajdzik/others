{
 "cells": [
  {
   "cell_type": "markdown",
   "metadata": {},
   "source": [
    "## [API](https://spark.apache.org/docs/latest/api/python/pyspark.sql.html)"
   ]
  },
  {
   "cell_type": "markdown",
   "metadata": {},
   "source": [
    "## SparkSession"
   ]
  },
  {
   "cell_type": "code",
   "execution_count": 1,
   "metadata": {},
   "outputs": [],
   "source": [
    "from pyspark.sql import SparkSession\n",
    "\n",
    "spark = SparkSession.builder \\\n",
    "    .appName('Apache Spark test') \\\n",
    "    .config(\"spark.sql.shuffle.partitions\", \"500\") \\\n",
    "    .getOrCreate()"
   ]
  },
  {
   "cell_type": "code",
   "execution_count": 2,
   "metadata": {},
   "outputs": [
    {
     "data": {
      "text/html": [
       "\n",
       "            <div>\n",
       "                <p><b>SparkSession - in-memory</b></p>\n",
       "                \n",
       "        <div>\n",
       "            <p><b>SparkContext</b></p>\n",
       "\n",
       "            <p><a href=\"http://172.19.30.152:4040\">Spark UI</a></p>\n",
       "\n",
       "            <dl>\n",
       "              <dt>Version</dt>\n",
       "                <dd><code>v2.4.4</code></dd>\n",
       "              <dt>Master</dt>\n",
       "                <dd><code>local[*]</code></dd>\n",
       "              <dt>AppName</dt>\n",
       "                <dd><code>Apache Spark test</code></dd>\n",
       "            </dl>\n",
       "        </div>\n",
       "        \n",
       "            </div>\n",
       "        "
      ],
      "text/plain": [
       "<pyspark.sql.session.SparkSession at 0x10a4a5590>"
      ]
     },
     "execution_count": 2,
     "metadata": {},
     "output_type": "execute_result"
    }
   ],
   "source": [
    "spark"
   ]
  },
  {
   "cell_type": "markdown",
   "metadata": {},
   "source": [
    "## Data \n",
    "[download data](https://github.com/databricks/Spark-The-Definitive-Guide)"
   ]
  },
  {
   "cell_type": "code",
   "execution_count": 3,
   "metadata": {},
   "outputs": [],
   "source": [
    "df = spark.read.format('csv') \\\n",
    "    .option(\"header\", \"true\") \\\n",
    "    .option(\"inferSchema\", \"true\") \\\n",
    "    .load(\"/Users/sg0218817/Downloads/Spark-The-Definitive-Guide-master/data/retail-data/by-day/2010-12-01.csv\")"
   ]
  },
  {
   "cell_type": "code",
   "execution_count": 4,
   "metadata": {},
   "outputs": [
    {
     "name": "stdout",
     "output_type": "stream",
     "text": [
      "root\n",
      " |-- InvoiceNo: string (nullable = true)\n",
      " |-- StockCode: string (nullable = true)\n",
      " |-- Description: string (nullable = true)\n",
      " |-- Quantity: integer (nullable = true)\n",
      " |-- InvoiceDate: timestamp (nullable = true)\n",
      " |-- UnitPrice: double (nullable = true)\n",
      " |-- CustomerID: double (nullable = true)\n",
      " |-- Country: string (nullable = true)\n",
      "\n"
     ]
    }
   ],
   "source": [
    "df.printSchema()"
   ]
  },
  {
   "cell_type": "code",
   "execution_count": 5,
   "metadata": {},
   "outputs": [
    {
     "name": "stdout",
     "output_type": "stream",
     "text": [
      "+-------+------------------+------------------+--------------+\n",
      "|summary|          Quantity|         UnitPrice|       Country|\n",
      "+-------+------------------+------------------+--------------+\n",
      "|  count|              3108|              3108|          3108|\n",
      "|   mean| 8.627413127413128| 4.151946589446603|          null|\n",
      "| stddev|26.371821677029203|15.638659854603892|          null|\n",
      "|    min|               -24|               0.0|     Australia|\n",
      "|    max|               600|            607.49|United Kingdom|\n",
      "+-------+------------------+------------------+--------------+\n",
      "\n"
     ]
    }
   ],
   "source": [
    "df.describe('Quantity', 'UnitPrice', 'Country').show()"
   ]
  },
  {
   "cell_type": "markdown",
   "metadata": {},
   "source": [
    "## Conditions"
   ]
  },
  {
   "cell_type": "code",
   "execution_count": 6,
   "metadata": {},
   "outputs": [],
   "source": [
    "from pyspark.sql.functions import *"
   ]
  },
  {
   "cell_type": "code",
   "execution_count": 7,
   "metadata": {},
   "outputs": [
    {
     "name": "stdout",
     "output_type": "stream",
     "text": [
      "+---------+---------+--------------+-----------+--------------+\n",
      "|StockCode|UnitPrice|   Description|isExpensive|isExpensiveSql|\n",
      "+---------+---------+--------------+-----------+--------------+\n",
      "|      DOT|   569.77|DOTCOM POSTAGE|       true|          true|\n",
      "|      DOT|   607.49|DOTCOM POSTAGE|       true|          true|\n",
      "+---------+---------+--------------+-----------+--------------+\n",
      "\n"
     ]
    }
   ],
   "source": [
    "dot_code_filter = df.StockCode.isin(\"DOT\")\n",
    "price_filter = col('UnitPrice') > 600\n",
    "description_filter = df.Description.contains('POSTAGE')\n",
    "\n",
    "df.where(dot_code_filter) \\\n",
    "    .where(col('InvoiceDate') < lit('2017-01-01')) \\\n",
    "    .where(price_filter | description_filter) \\\n",
    "    .withColumn('isExpensive', dot_code_filter & (price_filter | description_filter)) \\\n",
    "    .withColumn('isExpensiveSql', expr('StockCode in (\"DOT\") AND (UnitPrice > 600 OR instr(Description, \"POSTAGE\") >= 1)')) \\\n",
    "    .select('StockCode', 'UnitPrice', 'Description', 'isExpensive', 'isExpensiveSql') \\\n",
    "    .show(2)"
   ]
  },
  {
   "cell_type": "markdown",
   "metadata": {},
   "source": [
    "## Calculations"
   ]
  },
  {
   "cell_type": "code",
   "execution_count": 8,
   "metadata": {},
   "outputs": [
    {
     "name": "stdout",
     "output_type": "stream",
     "text": [
      "+----------+------------+\n",
      "|CustomerId|realQuantity|\n",
      "+----------+------------+\n",
      "|   17850.0|      239.09|\n",
      "|   17850.0|      418.72|\n",
      "+----------+------------+\n",
      "only showing top 2 rows\n",
      "\n"
     ]
    }
   ],
   "source": [
    "quantity = pow(col('Quantity') * col('UnitPrice'), 2) + 5\n",
    "\n",
    "df.select('CustomerId', round(quantity, 2).alias('realQuantity')) \\\n",
    "    .show(2)"
   ]
  },
  {
   "cell_type": "code",
   "execution_count": 9,
   "metadata": {},
   "outputs": [
    {
     "name": "stdout",
     "output_type": "stream",
     "text": [
      "+----------+------------+\n",
      "|CustomerId|realQuantity|\n",
      "+----------+------------+\n",
      "|   17850.0|      239.09|\n",
      "|   17850.0|    418.7156|\n",
      "+----------+------------+\n",
      "only showing top 2 rows\n",
      "\n"
     ]
    }
   ],
   "source": [
    "df.selectExpr('CustomerId', 'BROUND(POWER(Quantity * UnitPrice, 2.0) + 5, 4) AS realQuantity') \\\n",
    "    .show(2)"
   ]
  },
  {
   "cell_type": "code",
   "execution_count": 10,
   "metadata": {},
   "outputs": [
    {
     "name": "stdout",
     "output_type": "stream",
     "text": [
      "+----------------------------------+----------------------------------+----------------------------------+\n",
      "|Description                       |lower(Description)                |initcap(Description)              |\n",
      "+----------------------------------+----------------------------------+----------------------------------+\n",
      "|WHITE HANGING HEART T-LIGHT HOLDER|white hanging heart t-light holder|White Hanging Heart T-light Holder|\n",
      "|WHITE METAL LANTERN               |white metal lantern               |White Metal Lantern               |\n",
      "+----------------------------------+----------------------------------+----------------------------------+\n",
      "only showing top 2 rows\n",
      "\n"
     ]
    }
   ],
   "source": [
    "df.select(col('Description'), lower(col('Description')), initcap(col('Description'))) \\\n",
    "    .show(2, False)"
   ]
  },
  {
   "cell_type": "markdown",
   "metadata": {},
   "source": [
    "- lower, upper\n",
    "- initcap\n",
    "- ltrim, rtrim, trim\n",
    "- lpad, rpad"
   ]
  },
  {
   "cell_type": "code",
   "execution_count": 11,
   "metadata": {},
   "outputs": [
    {
     "name": "stdout",
     "output_type": "stream",
     "text": [
      "+----------------------------------+----------------------------------+\n",
      "|Description                       |Color Clean                       |\n",
      "+----------------------------------+----------------------------------+\n",
      "|WHITE HANGING HEART T-LIGHT HOLDER|COLOR HANGING HEART T-LIGHT HOLDER|\n",
      "|WHITE METAL LANTERN               |COLOR METAL LANTERN               |\n",
      "+----------------------------------+----------------------------------+\n",
      "only showing top 2 rows\n",
      "\n"
     ]
    }
   ],
   "source": [
    "regex_string = 'BLACK|WHITE|RED|GREEN|BLUE'\n",
    "df.select('Description', regexp_replace(col('Description'), regex_string, 'COLOR').alias('Color Clean')) \\\n",
    "    .show(2, False)"
   ]
  },
  {
   "cell_type": "markdown",
   "metadata": {},
   "source": [
    "# Dates"
   ]
  },
  {
   "cell_type": "code",
   "execution_count": 12,
   "metadata": {},
   "outputs": [
    {
     "name": "stdout",
     "output_type": "stream",
     "text": [
      "+---+----------+-----------------------+----------+----------+----------+--------+----------+\n",
      "|id |today     |now                    |some_date |today+5   |today-5   |day_diff|month_diff|\n",
      "+---+----------+-----------------------+----------+----------+----------+--------+----------+\n",
      "|0  |2019-11-20|2019-11-20 20:51:36.503|2019-09-29|2019-11-25|2019-11-15|52      |1.70967742|\n",
      "+---+----------+-----------------------+----------+----------+----------+--------+----------+\n",
      "\n"
     ]
    }
   ],
   "source": [
    "spark.range(1) \\\n",
    "    .withColumn('today', current_date()) \\\n",
    "    .withColumn('now', current_timestamp()) \\\n",
    "    .withColumn('some_date', to_date(lit('2019-09-29'))) \\\n",
    "    .withColumn('today+5', date_add(col('today'), 5)) \\\n",
    "    .withColumn('today-5', date_sub(col('today'), 5)) \\\n",
    "    .withColumn('day_diff', datediff(col('today'), col('some_date'))) \\\n",
    "    .withColumn('month_diff', months_between(col('today'), col('some_date'))) \\\n",
    "    .show(10, False)"
   ]
  },
  {
   "cell_type": "code",
   "execution_count": 13,
   "metadata": {},
   "outputs": [
    {
     "name": "stdout",
     "output_type": "stream",
     "text": [
      "+---+----------+------------+-------------------+\n",
      "|id |some_date |another_date|timestamp          |\n",
      "+---+----------+------------+-------------------+\n",
      "|0  |2019-09-29|2019-09-29  |2019-09-29 00:00:00|\n",
      "+---+----------+------------+-------------------+\n",
      "\n"
     ]
    }
   ],
   "source": [
    "spark.range(1) \\\n",
    "    .withColumn('some_date', to_date(lit('2019-09-29'))) \\\n",
    "    .withColumn('another_date', to_date(lit('2019-09-29'), 'yyyy-MM-dd')) \\\n",
    "    .withColumn('timestamp', to_timestamp(lit('2019-09-29'), 'yyyy-MM-dd')) \\\n",
    "    .show(10, False)\n"
   ]
  },
  {
   "cell_type": "markdown",
   "metadata": {},
   "source": [
    "## Nulls"
   ]
  },
  {
   "cell_type": "code",
   "execution_count": 14,
   "metadata": {
    "scrolled": true
   },
   "outputs": [
    {
     "name": "stdout",
     "output_type": "stream",
     "text": [
      "+---------+---------+\n",
      "|InvoiceNo|StockCode|\n",
      "+---------+---------+\n",
      "|536365   |85123A   |\n",
      "|536365   |71053    |\n",
      "+---------+---------+\n",
      "only showing top 2 rows\n",
      "\n"
     ]
    }
   ],
   "source": [
    "df.na.drop('any') \\\n",
    "    .select('InvoiceNo', 'StockCode') \\\n",
    "    .show(2, False)"
   ]
  },
  {
   "cell_type": "code",
   "execution_count": 15,
   "metadata": {},
   "outputs": [
    {
     "name": "stdout",
     "output_type": "stream",
     "text": [
      "+---------+---------+\n",
      "|InvoiceNo|StockCode|\n",
      "+---------+---------+\n",
      "|536365   |85123A   |\n",
      "|536365   |71053    |\n",
      "+---------+---------+\n",
      "only showing top 2 rows\n",
      "\n"
     ]
    }
   ],
   "source": [
    "df.na.fill('replace null with this string') \\\n",
    "    .select('InvoiceNo', 'StockCode') \\\n",
    "    .show(2, False)"
   ]
  },
  {
   "cell_type": "markdown",
   "metadata": {},
   "source": [
    "## Arrays"
   ]
  },
  {
   "cell_type": "code",
   "execution_count": 16,
   "metadata": {},
   "outputs": [
    {
     "name": "stdout",
     "output_type": "stream",
     "text": [
      "+----------------------------------------+\n",
      "|split(Description,  )                   |\n",
      "+----------------------------------------+\n",
      "|[WHITE, HANGING, HEART, T-LIGHT, HOLDER]|\n",
      "|[WHITE, METAL, LANTERN]                 |\n",
      "+----------------------------------------+\n",
      "only showing top 2 rows\n",
      "\n"
     ]
    }
   ],
   "source": [
    "df.select(split(col('Description'), ' ')).show(2, False)"
   ]
  },
  {
   "cell_type": "code",
   "execution_count": 17,
   "metadata": {},
   "outputs": [
    {
     "name": "stdout",
     "output_type": "stream",
     "text": [
      "+----------------+\n",
      "|array[3]        |\n",
      "+----------------+\n",
      "|T-LIGHT         |\n",
      "|NULL replacement|\n",
      "+----------------+\n",
      "only showing top 2 rows\n",
      "\n"
     ]
    }
   ],
   "source": [
    "df.select(split(col('Description'), ' ').alias('array')) \\\n",
    "    .selectExpr('array[3]') \\\n",
    "    .na.fill('NULL replacement') \\\n",
    "    .show(2, False)"
   ]
  },
  {
   "cell_type": "code",
   "execution_count": 18,
   "metadata": {},
   "outputs": [
    {
     "name": "stdout",
     "output_type": "stream",
     "text": [
      "+---------+\n",
      "|has heart|\n",
      "+---------+\n",
      "|true     |\n",
      "|false    |\n",
      "+---------+\n",
      "only showing top 2 rows\n",
      "\n"
     ]
    }
   ],
   "source": [
    "df.select(array_contains(split(col('Description'), ' '), 'HEART').alias('has heart')) \\\n",
    "    .show(2, False)"
   ]
  },
  {
   "cell_type": "code",
   "execution_count": 19,
   "metadata": {},
   "outputs": [
    {
     "name": "stdout",
     "output_type": "stream",
     "text": [
      "+----------------------------------------+--------+\n",
      "|splitted                                |exploded|\n",
      "+----------------------------------------+--------+\n",
      "|[WHITE, HANGING, HEART, T-LIGHT, HOLDER]|WHITE   |\n",
      "|[WHITE, HANGING, HEART, T-LIGHT, HOLDER]|HANGING |\n",
      "+----------------------------------------+--------+\n",
      "only showing top 2 rows\n",
      "\n"
     ]
    }
   ],
   "source": [
    "df.withColumn('splitted', split(col('Description'), ' ')) \\\n",
    "    .withColumn('exploded', explode(col('splitted'))) \\\n",
    "    .select('splitted', 'exploded') \\\n",
    "    .show(2, False)"
   ]
  },
  {
   "cell_type": "markdown",
   "metadata": {},
   "source": [
    "## Maps"
   ]
  },
  {
   "cell_type": "code",
   "execution_count": 20,
   "metadata": {},
   "outputs": [
    {
     "name": "stdout",
     "output_type": "stream",
     "text": [
      "+---------+-----------------------------------------------+\n",
      "|StockCode|complex_map                                    |\n",
      "+---------+-----------------------------------------------+\n",
      "|85123A   |[WHITE HANGING HEART T-LIGHT HOLDER -> 536365] |\n",
      "|71053    |[WHITE METAL LANTERN -> 536365]                |\n",
      "|84406B   |[CREAM CUPID HEARTS COAT HANGER -> 536365]     |\n",
      "|84029G   |[KNITTED UNION FLAG HOT WATER BOTTLE -> 536365]|\n",
      "|84029E   |[RED WOOLLY HOTTIE WHITE HEART. -> 536365]     |\n",
      "|22752    |[SET 7 BABUSHKA NESTING BOXES -> 536365]       |\n",
      "|21730    |[GLASS STAR FROSTED T-LIGHT HOLDER -> 536365]  |\n",
      "|22633    |[HAND WARMER UNION JACK -> 536366]             |\n",
      "|22632    |[HAND WARMER RED POLKA DOT -> 536366]          |\n",
      "|84879    |[ASSORTED COLOUR BIRD ORNAMENT -> 536367]      |\n",
      "+---------+-----------------------------------------------+\n",
      "only showing top 10 rows\n",
      "\n"
     ]
    }
   ],
   "source": [
    "map_df = df.select('StockCode', create_map(col('Description'), col('InvoiceNo')).alias('complex_map'))\n",
    "map_df.show(10, False)"
   ]
  },
  {
   "cell_type": "code",
   "execution_count": 21,
   "metadata": {},
   "outputs": [
    {
     "name": "stdout",
     "output_type": "stream",
     "text": [
      "+--------------------------------+\n",
      "|complex_map[WHITE METAL LANTERN]|\n",
      "+--------------------------------+\n",
      "|                            null|\n",
      "|                          536365|\n",
      "|                            null|\n",
      "+--------------------------------+\n",
      "only showing top 3 rows\n",
      "\n"
     ]
    }
   ],
   "source": [
    "map_df.selectExpr('complex_map[\"WHITE METAL LANTERN\"]') \\\n",
    "    .show(3)"
   ]
  },
  {
   "cell_type": "code",
   "execution_count": 22,
   "metadata": {},
   "outputs": [
    {
     "name": "stdout",
     "output_type": "stream",
     "text": [
      "+--------------------+------+\n",
      "|                 key| value|\n",
      "+--------------------+------+\n",
      "|WHITE HANGING HEA...|536365|\n",
      "| WHITE METAL LANTERN|536365|\n",
      "|CREAM CUPID HEART...|536365|\n",
      "+--------------------+------+\n",
      "only showing top 3 rows\n",
      "\n"
     ]
    }
   ],
   "source": [
    "map_df.selectExpr('explode(complex_map)') \\\n",
    "    .show(3)"
   ]
  },
  {
   "cell_type": "markdown",
   "metadata": {},
   "source": [
    "## JSON"
   ]
  },
  {
   "cell_type": "code",
   "execution_count": 23,
   "metadata": {},
   "outputs": [
    {
     "name": "stdout",
     "output_type": "stream",
     "text": [
      "+--------------------------------------------------------------------------+\n",
      "|my_json                                                                   |\n",
      "+--------------------------------------------------------------------------+\n",
      "|{\"InvoiceNo\":\"536365\",\"Description\":\"WHITE HANGING HEART T-LIGHT HOLDER\"} |\n",
      "|{\"InvoiceNo\":\"536365\",\"Description\":\"WHITE METAL LANTERN\"}                |\n",
      "|{\"InvoiceNo\":\"536365\",\"Description\":\"CREAM CUPID HEARTS COAT HANGER\"}     |\n",
      "|{\"InvoiceNo\":\"536365\",\"Description\":\"KNITTED UNION FLAG HOT WATER BOTTLE\"}|\n",
      "|{\"InvoiceNo\":\"536365\",\"Description\":\"RED WOOLLY HOTTIE WHITE HEART.\"}     |\n",
      "+--------------------------------------------------------------------------+\n",
      "only showing top 5 rows\n",
      "\n"
     ]
    }
   ],
   "source": [
    "json_df = df.selectExpr('(InvoiceNo, Description) as my_struct') \\\n",
    "    .select(to_json(col('my_struct')).alias('my_json'))\n",
    "\n",
    "json_df.show(5, False)"
   ]
  },
  {
   "cell_type": "code",
   "execution_count": 24,
   "metadata": {},
   "outputs": [
    {
     "name": "stdout",
     "output_type": "stream",
     "text": [
      "+---------------------------------------+-----------------------------------+\n",
      "|get_json_object(my_json, $.Description)|c0                                 |\n",
      "+---------------------------------------+-----------------------------------+\n",
      "|WHITE HANGING HEART T-LIGHT HOLDER     |WHITE HANGING HEART T-LIGHT HOLDER |\n",
      "|WHITE METAL LANTERN                    |WHITE METAL LANTERN                |\n",
      "|CREAM CUPID HEARTS COAT HANGER         |CREAM CUPID HEARTS COAT HANGER     |\n",
      "|KNITTED UNION FLAG HOT WATER BOTTLE    |KNITTED UNION FLAG HOT WATER BOTTLE|\n",
      "|RED WOOLLY HOTTIE WHITE HEART.         |RED WOOLLY HOTTIE WHITE HEART.     |\n",
      "+---------------------------------------+-----------------------------------+\n",
      "only showing top 5 rows\n",
      "\n"
     ]
    }
   ],
   "source": [
    "json_df.select(get_json_object(col('my_json'), '$.Description'), json_tuple(col('my_json'), 'Description')) \\\n",
    "    .show(5, False)"
   ]
  },
  {
   "cell_type": "markdown",
   "metadata": {},
   "source": [
    "## UDF"
   ]
  },
  {
   "cell_type": "markdown",
   "metadata": {},
   "source": [
    "In Spark SQL we can define our own functions with the udf method from the pyspark.sql.functions module. The default type of the returned variable for UDFs is string. If we would like to return an other type we need to explicitly do so by using the different types from the pyspark.sql.types module."
   ]
  },
  {
   "cell_type": "code",
   "execution_count": 25,
   "metadata": {},
   "outputs": [],
   "source": [
    "def power3(value):\n",
    "    return value ** 3\n",
    "\n",
    "power3udf = udf(power3)"
   ]
  },
  {
   "cell_type": "code",
   "execution_count": 39,
   "metadata": {},
   "outputs": [
    {
     "name": "stdout",
     "output_type": "stream",
     "text": [
      "+---+-----------+\n",
      "|num|power3(num)|\n",
      "+---+-----------+\n",
      "|0  |0          |\n",
      "|1  |1          |\n",
      "|2  |8          |\n",
      "|3  |27         |\n",
      "|4  |64         |\n",
      "|5  |125        |\n",
      "|6  |216        |\n",
      "|7  |343        |\n",
      "|8  |512        |\n",
      "|9  |729        |\n",
      "+---+-----------+\n",
      "only showing top 10 rows\n",
      "\n"
     ]
    }
   ],
   "source": [
    "spark.range(20).toDF('num') \\\n",
    "    .select('num', power3udf(col('num'))) \\\n",
    "    .show(10, False)"
   ]
  },
  {
   "cell_type": "code",
   "execution_count": 41,
   "metadata": {},
   "outputs": [
    {
     "data": {
      "text/plain": [
       "<function __main__.power3(value)>"
      ]
     },
     "execution_count": 41,
     "metadata": {},
     "output_type": "execute_result"
    }
   ],
   "source": [
    "from pyspark.sql.types import LongType\n",
    "\n",
    "spark.udf.register('power3py', power3, LongType())"
   ]
  },
  {
   "cell_type": "code",
   "execution_count": 42,
   "metadata": {},
   "outputs": [
    {
     "name": "stdout",
     "output_type": "stream",
     "text": [
      "+---+-------------+\n",
      "|num|power3py(num)|\n",
      "+---+-------------+\n",
      "|0  |0            |\n",
      "|1  |1            |\n",
      "|2  |8            |\n",
      "|3  |27           |\n",
      "|4  |64           |\n",
      "|5  |125          |\n",
      "|6  |216          |\n",
      "|7  |343          |\n",
      "|8  |512          |\n",
      "|9  |729          |\n",
      "+---+-------------+\n",
      "only showing top 10 rows\n",
      "\n"
     ]
    }
   ],
   "source": [
    "spark.range(20).toDF('num') \\\n",
    "    .selectExpr('num', 'power3py(num)') \\\n",
    "    .show(10, False)"
   ]
  },
  {
   "cell_type": "code",
   "execution_count": null,
   "metadata": {},
   "outputs": [],
   "source": []
  }
 ],
 "metadata": {
  "kernelspec": {
   "display_name": "Python 3",
   "language": "python",
   "name": "python3"
  },
  "language_info": {
   "codemirror_mode": {
    "name": "ipython",
    "version": 3
   },
   "file_extension": ".py",
   "mimetype": "text/x-python",
   "name": "python",
   "nbconvert_exporter": "python",
   "pygments_lexer": "ipython3",
   "version": "3.7.5"
  }
 },
 "nbformat": 4,
 "nbformat_minor": 2
}
