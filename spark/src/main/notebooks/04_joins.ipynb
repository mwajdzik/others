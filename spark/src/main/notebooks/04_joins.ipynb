{
 "cells": [
  {
   "cell_type": "markdown",
   "metadata": {},
   "source": [
    "## [API](https://spark.apache.org/docs/latest/api/python/pyspark.sql.html)"
   ]
  },
  {
   "cell_type": "markdown",
   "metadata": {},
   "source": [
    "## SparkSession"
   ]
  },
  {
   "cell_type": "code",
   "execution_count": 25,
   "metadata": {
    "pycharm": {
     "is_executing": false,
     "name": "#%%\n"
    }
   },
   "outputs": [],
   "source": [
    "from pyspark.sql import SparkSession\n",
    "from pyspark.sql.functions import *\n",
    "\n",
    "spark = SparkSession.builder \\\n",
    "    .appName('Apache Spark test') \\\n",
    "    .config(\"spark.sql.shuffle.partitions\", \"500\") \\\n",
    "    .getOrCreate()"
   ]
  },
  {
   "cell_type": "code",
   "execution_count": 26,
   "metadata": {
    "pycharm": {
     "is_executing": false,
     "name": "#%%\n"
    }
   },
   "outputs": [
    {
     "data": {
      "text/html": [
       "\n",
       "            <div>\n",
       "                <p><b>SparkSession - in-memory</b></p>\n",
       "                \n",
       "        <div>\n",
       "            <p><b>SparkContext</b></p>\n",
       "\n",
       "            <p><a href=\"http://172.19.30.152:4040\">Spark UI</a></p>\n",
       "\n",
       "            <dl>\n",
       "              <dt>Version</dt>\n",
       "                <dd><code>v2.4.4</code></dd>\n",
       "              <dt>Master</dt>\n",
       "                <dd><code>local[*]</code></dd>\n",
       "              <dt>AppName</dt>\n",
       "                <dd><code>Apache Spark test</code></dd>\n",
       "            </dl>\n",
       "        </div>\n",
       "        \n",
       "            </div>\n",
       "        "
      ],
      "text/plain": [
       "<pyspark.sql.session.SparkSession at 0x1161f69d0>"
      ]
     },
     "execution_count": 26,
     "metadata": {},
     "output_type": "execute_result"
    }
   ],
   "source": [
    "spark"
   ]
  },
  {
   "cell_type": "markdown",
   "metadata": {},
   "source": [
    "## Data "
   ]
  },
  {
   "cell_type": "code",
   "execution_count": 27,
   "metadata": {
    "pycharm": {
     "is_executing": false,
     "name": "#%%\n"
    }
   },
   "outputs": [],
   "source": [
    "person = spark.createDataFrame([\n",
    "    (0, \"Bill Chambers\", 0, [100]),\n",
    "    (1, \"Matei Zaharia\", 1, [500, 250, 100]),\n",
    "    (2, \"Michael Armbrust\", 1, [250, 100])])\\\n",
    "    .toDF(\"id\", \"name\", \"graduate_program\", \"spark_status\")\n",
    "\n",
    "graduateProgram = spark.createDataFrame([\n",
    "    (0, \"Masters\", \"School of Information\", \"UC Berkeley\"),\n",
    "    (2, \"Masters\", \"EECS\", \"UC Berkeley\"),\n",
    "    (1, \"Ph.D.\", \"EECS\", \"UC Berkeley\")])\\\n",
    "    .toDF(\"id\", \"degree\", \"department\", \"school\")\n",
    "\n",
    "sparkStatus = spark.createDataFrame([\n",
    "    (500, \"Vice President\"),\n",
    "    (250, \"PMC Member\"),\n",
    "    (100, \"Contributor\")])\\\n",
    "    .toDF(\"id\", \"status\")\n"
   ]
  },
  {
   "cell_type": "code",
   "execution_count": 28,
   "metadata": {},
   "outputs": [],
   "source": [
    "person.createOrReplaceTempView('person')\n",
    "graduateProgram.createOrReplaceTempView('graduateProgram')\n",
    "sparkStatus.createOrReplaceTempView('sparkStatus')"
   ]
  },
  {
   "cell_type": "code",
   "execution_count": 29,
   "metadata": {
    "pycharm": {
     "is_executing": false,
     "name": "#%%\n"
    }
   },
   "outputs": [
    {
     "name": "stdout",
     "output_type": "stream",
     "text": [
      "root\n",
      " |-- id: long (nullable = true)\n",
      " |-- name: string (nullable = true)\n",
      " |-- graduate_program: long (nullable = true)\n",
      " |-- spark_status: array (nullable = true)\n",
      " |    |-- element: long (containsNull = true)\n",
      "\n"
     ]
    }
   ],
   "source": [
    "person.printSchema()"
   ]
  },
  {
   "cell_type": "code",
   "execution_count": 30,
   "metadata": {
    "pycharm": {
     "is_executing": false,
     "name": "#%%\n"
    }
   },
   "outputs": [
    {
     "name": "stdout",
     "output_type": "stream",
     "text": [
      "+---+-------------+----------------+---------------+\n",
      "|id |name         |graduate_program|spark_status   |\n",
      "+---+-------------+----------------+---------------+\n",
      "|0  |Bill Chambers|0               |[100]          |\n",
      "|1  |Matei Zaharia|1               |[500, 250, 100]|\n",
      "+---+-------------+----------------+---------------+\n",
      "only showing top 2 rows\n",
      "\n"
     ]
    }
   ],
   "source": [
    "person.show(2, False)"
   ]
  },
  {
   "cell_type": "markdown",
   "metadata": {},
   "source": [
    "## Left Inner Join"
   ]
  },
  {
   "cell_type": "code",
   "execution_count": 31,
   "metadata": {},
   "outputs": [
    {
     "name": "stdout",
     "output_type": "stream",
     "text": [
      "+----------------+-------+---------------------+-----------+\n",
      "|name            |degree |department           |school     |\n",
      "+----------------+-------+---------------------+-----------+\n",
      "|Matei Zaharia   |Ph.D.  |EECS                 |UC Berkeley|\n",
      "|Michael Armbrust|Ph.D.  |EECS                 |UC Berkeley|\n",
      "|Bill Chambers   |Masters|School of Information|UC Berkeley|\n",
      "+----------------+-------+---------------------+-----------+\n",
      "\n"
     ]
    }
   ],
   "source": [
    "join_expression = person['graduate_program'] == graduateProgram['id']\n",
    "\n",
    "person.join(graduateProgram, join_expression) \\\n",
    "    .select('name', \"degree\", \"department\", \"school\") \\\n",
    "    .show(5, False)"
   ]
  },
  {
   "cell_type": "code",
   "execution_count": 32,
   "metadata": {},
   "outputs": [
    {
     "name": "stdout",
     "output_type": "stream",
     "text": [
      "+----------------+-------+---------------------+-----------+\n",
      "|name            |degree |department           |school     |\n",
      "+----------------+-------+---------------------+-----------+\n",
      "|Matei Zaharia   |Ph.D.  |EECS                 |UC Berkeley|\n",
      "|Michael Armbrust|Ph.D.  |EECS                 |UC Berkeley|\n",
      "|Bill Chambers   |Masters|School of Information|UC Berkeley|\n",
      "+----------------+-------+---------------------+-----------+\n",
      "\n"
     ]
    }
   ],
   "source": [
    "spark.sql('''\n",
    "    SELECT name, degree, department, school\n",
    "    FROM person JOIN graduateProgram\n",
    "    ON person.graduate_program = graduateProgram.id\n",
    "''') \\\n",
    "    .show(5, False)"
   ]
  },
  {
   "cell_type": "markdown",
   "metadata": {},
   "source": [
    "## Outer Joins"
   ]
  },
  {
   "cell_type": "code",
   "execution_count": 33,
   "metadata": {},
   "outputs": [
    {
     "name": "stdout",
     "output_type": "stream",
     "text": [
      "outer\n",
      "+----------------+-------+---------------------+-----------+\n",
      "|name            |degree |department           |school     |\n",
      "+----------------+-------+---------------------+-----------+\n",
      "|Matei Zaharia   |Ph.D.  |EECS                 |UC Berkeley|\n",
      "|Michael Armbrust|Ph.D.  |EECS                 |UC Berkeley|\n",
      "|null            |Masters|EECS                 |UC Berkeley|\n",
      "|Bill Chambers   |Masters|School of Information|UC Berkeley|\n",
      "+----------------+-------+---------------------+-----------+\n",
      "\n",
      "left_outer\n",
      "+----------------+-------+---------------------+-----------+\n",
      "|name            |degree |department           |school     |\n",
      "+----------------+-------+---------------------+-----------+\n",
      "|Matei Zaharia   |Ph.D.  |EECS                 |UC Berkeley|\n",
      "|Michael Armbrust|Ph.D.  |EECS                 |UC Berkeley|\n",
      "|Bill Chambers   |Masters|School of Information|UC Berkeley|\n",
      "+----------------+-------+---------------------+-----------+\n",
      "\n",
      "right_outer\n",
      "+----------------+-------+---------------------+-----------+\n",
      "|name            |degree |department           |school     |\n",
      "+----------------+-------+---------------------+-----------+\n",
      "|Matei Zaharia   |Ph.D.  |EECS                 |UC Berkeley|\n",
      "|Michael Armbrust|Ph.D.  |EECS                 |UC Berkeley|\n",
      "|null            |Masters|EECS                 |UC Berkeley|\n",
      "|Bill Chambers   |Masters|School of Information|UC Berkeley|\n",
      "+----------------+-------+---------------------+-----------+\n",
      "\n"
     ]
    }
   ],
   "source": [
    "for join_type in ['outer', 'left_outer', 'right_outer']:\n",
    "    print(join_type)\n",
    "    person.join(graduateProgram, join_expression, join_type) \\\n",
    "        .select('name', \"degree\", \"department\", \"school\") \\\n",
    "        .show(5, False)"
   ]
  },
  {
   "cell_type": "markdown",
   "metadata": {},
   "source": [
    "## Left Semi Joins"
   ]
  },
  {
   "cell_type": "code",
   "execution_count": 34,
   "metadata": {},
   "outputs": [
    {
     "name": "stdout",
     "output_type": "stream",
     "text": [
      "+---+-------+---------------------+-----------+\n",
      "|id |degree |department           |school     |\n",
      "+---+-------+---------------------+-----------+\n",
      "|1  |Ph.D.  |EECS                 |UC Berkeley|\n",
      "|0  |Masters|School of Information|UC Berkeley|\n",
      "+---+-------+---------------------+-----------+\n",
      "\n"
     ]
    }
   ],
   "source": [
    "# filter the left df based on the right df \n",
    "\n",
    "graduateProgram.join(person, join_expression, 'left_semi') \\\n",
    "    .select(\"id\", \"degree\", \"department\", \"school\") \\\n",
    "    .show(5, False)"
   ]
  },
  {
   "cell_type": "markdown",
   "metadata": {},
   "source": [
    "## Left Anti Joins"
   ]
  },
  {
   "cell_type": "code",
   "execution_count": 35,
   "metadata": {},
   "outputs": [
    {
     "name": "stdout",
     "output_type": "stream",
     "text": [
      "+---+-------+----------+-----------+\n",
      "|id |degree |department|school     |\n",
      "+---+-------+----------+-----------+\n",
      "|2  |Masters|EECS      |UC Berkeley|\n",
      "+---+-------+----------+-----------+\n",
      "\n"
     ]
    }
   ],
   "source": [
    "graduateProgram.join(person, join_expression, 'left_anti') \\\n",
    "    .select(\"id\", \"degree\", \"department\", \"school\") \\\n",
    "    .show(5, False)"
   ]
  },
  {
   "cell_type": "markdown",
   "metadata": {},
   "source": [
    "## Join types\n",
    "\n",
    "- shuffle join (two big tables)\n",
    "- broadcast join (one of the dataframes is small enough to fit in the memory of each node)"
   ]
  },
  {
   "cell_type": "code",
   "execution_count": 36,
   "metadata": {},
   "outputs": [
    {
     "name": "stdout",
     "output_type": "stream",
     "text": [
      "== Physical Plan ==\n",
      "*(5) SortMergeJoin [graduate_program#707L], [id#721L], Inner\n",
      ":- *(2) Sort [graduate_program#707L ASC NULLS FIRST], false, 0\n",
      ":  +- Exchange hashpartitioning(graduate_program#707L, 500)\n",
      ":     +- *(1) Project [_1#697L AS id#705L, _2#698 AS name#706, _3#699L AS graduate_program#707L, _4#700 AS spark_status#708]\n",
      ":        +- *(1) Filter isnotnull(_3#699L)\n",
      ":           +- Scan ExistingRDD[_1#697L,_2#698,_3#699L,_4#700]\n",
      "+- *(4) Sort [id#721L ASC NULLS FIRST], false, 0\n",
      "   +- Exchange hashpartitioning(id#721L, 500)\n",
      "      +- *(3) Project [_1#713L AS id#721L, _2#714 AS degree#722, _3#715 AS department#723, _4#716 AS school#724]\n",
      "         +- *(3) Filter isnotnull(_1#713L)\n",
      "            +- Scan ExistingRDD[_1#713L,_2#714,_3#715,_4#716]\n"
     ]
    }
   ],
   "source": [
    "person.join(graduateProgram, join_expression) \\\n",
    "    .explain()"
   ]
  },
  {
   "cell_type": "code",
   "execution_count": 37,
   "metadata": {},
   "outputs": [
    {
     "name": "stdout",
     "output_type": "stream",
     "text": [
      "== Physical Plan ==\n",
      "*(2) BroadcastHashJoin [graduate_program#707L], [id#721L], Inner, BuildRight\n",
      ":- *(2) Project [_1#697L AS id#705L, _2#698 AS name#706, _3#699L AS graduate_program#707L, _4#700 AS spark_status#708]\n",
      ":  +- *(2) Filter isnotnull(_3#699L)\n",
      ":     +- Scan ExistingRDD[_1#697L,_2#698,_3#699L,_4#700]\n",
      "+- BroadcastExchange HashedRelationBroadcastMode(List(input[0, bigint, true]))\n",
      "   +- *(1) Project [_1#713L AS id#721L, _2#714 AS degree#722, _3#715 AS department#723, _4#716 AS school#724]\n",
      "      +- *(1) Filter isnotnull(_1#713L)\n",
      "         +- Scan ExistingRDD[_1#713L,_2#714,_3#715,_4#716]\n"
     ]
    }
   ],
   "source": [
    "person.join(broadcast(graduateProgram), join_expression) \\\n",
    "    .explain()"
   ]
  },
  {
   "cell_type": "code",
   "execution_count": null,
   "metadata": {},
   "outputs": [],
   "source": []
  }
 ],
 "metadata": {
  "kernelspec": {
   "display_name": "Python 3",
   "language": "python",
   "name": "python3"
  },
  "language_info": {
   "codemirror_mode": {
    "name": "ipython",
    "version": 3
   },
   "file_extension": ".py",
   "mimetype": "text/x-python",
   "name": "python",
   "nbconvert_exporter": "python",
   "pygments_lexer": "ipython3",
   "version": "3.7.5"
  },
  "pycharm": {
   "stem_cell": {
    "cell_type": "raw",
    "metadata": {
     "collapsed": false
    },
    "source": []
   }
  }
 },
 "nbformat": 4,
 "nbformat_minor": 2
}
