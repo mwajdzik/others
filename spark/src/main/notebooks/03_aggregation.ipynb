{
 "cells": [
  {
   "cell_type": "markdown",
   "metadata": {},
   "source": [
    "## [API](https://spark.apache.org/docs/latest/api/python/pyspark.sql.html)"
   ]
  },
  {
   "cell_type": "markdown",
   "metadata": {},
   "source": [
    "## SparkSession"
   ]
  },
  {
   "cell_type": "code",
   "execution_count": 1,
   "metadata": {},
   "outputs": [],
   "source": [
    "from pyspark.sql import SparkSession\n",
    "\n",
    "spark = SparkSession.builder \\\n",
    "    .appName('Apache Spark test') \\\n",
    "    .config(\"spark.sql.shuffle.partitions\", \"500\") \\\n",
    "    .getOrCreate()"
   ]
  },
  {
   "cell_type": "code",
   "execution_count": 2,
   "metadata": {},
   "outputs": [
    {
     "data": {
      "text/html": [
       "\n",
       "            <div>\n",
       "                <p><b>SparkSession - in-memory</b></p>\n",
       "                \n",
       "        <div>\n",
       "            <p><b>SparkContext</b></p>\n",
       "\n",
       "            <p><a href=\"http://172.19.30.152:4040\">Spark UI</a></p>\n",
       "\n",
       "            <dl>\n",
       "              <dt>Version</dt>\n",
       "                <dd><code>v2.4.4</code></dd>\n",
       "              <dt>Master</dt>\n",
       "                <dd><code>local[*]</code></dd>\n",
       "              <dt>AppName</dt>\n",
       "                <dd><code>Apache Spark test</code></dd>\n",
       "            </dl>\n",
       "        </div>\n",
       "        \n",
       "            </div>\n",
       "        "
      ],
      "text/plain": [
       "<pyspark.sql.session.SparkSession at 0x107d724d0>"
      ]
     },
     "execution_count": 2,
     "metadata": {},
     "output_type": "execute_result"
    }
   ],
   "source": [
    "spark"
   ]
  },
  {
   "cell_type": "markdown",
   "metadata": {},
   "source": [
    "## Data \n",
    "[download data](https://github.com/databricks/Spark-The-Definitive-Guide)"
   ]
  },
  {
   "cell_type": "code",
   "execution_count": 46,
   "metadata": {},
   "outputs": [],
   "source": [
    "from pyspark.sql.functions import *\n",
    "from pyspark.sql.window import *\n",
    "\n",
    "df = spark.read.format('csv') \\\n",
    "    .option(\"header\", \"true\") \\\n",
    "    .option(\"inferSchema\", \"true\") \\\n",
    "    .load(\"/Users/sg0218817/Downloads/Spark-The-Definitive-Guide-master/data/retail-data/all/*.csv\") \\\n",
    "    .coalesce(4) \\\n",
    "    .withColumn(\"date\", to_date(col('InvoiceDate'), 'MM/d/yyyy H:mm')) \\\n",
    "    .cache()"
   ]
  },
  {
   "cell_type": "code",
   "execution_count": 4,
   "metadata": {},
   "outputs": [
    {
     "name": "stdout",
     "output_type": "stream",
     "text": [
      "root\n",
      " |-- InvoiceNo: string (nullable = true)\n",
      " |-- StockCode: string (nullable = true)\n",
      " |-- Description: string (nullable = true)\n",
      " |-- Quantity: integer (nullable = true)\n",
      " |-- InvoiceDate: string (nullable = true)\n",
      " |-- UnitPrice: double (nullable = true)\n",
      " |-- CustomerID: integer (nullable = true)\n",
      " |-- Country: string (nullable = true)\n",
      "\n"
     ]
    }
   ],
   "source": [
    "df.printSchema()"
   ]
  },
  {
   "cell_type": "code",
   "execution_count": 45,
   "metadata": {},
   "outputs": [
    {
     "name": "stdout",
     "output_type": "stream",
     "text": [
      "+---------+---------+----------------------------------+--------+--------------+---------+----------+--------------+----------+\n",
      "|InvoiceNo|StockCode|Description                       |Quantity|InvoiceDate   |UnitPrice|CustomerID|Country       |date      |\n",
      "+---------+---------+----------------------------------+--------+--------------+---------+----------+--------------+----------+\n",
      "|536365   |85123A   |WHITE HANGING HEART T-LIGHT HOLDER|6       |12/1/2010 8:26|2.55     |17850     |United Kingdom|2010-12-01|\n",
      "|536365   |71053    |WHITE METAL LANTERN               |6       |12/1/2010 8:26|3.39     |17850     |United Kingdom|2010-12-01|\n",
      "+---------+---------+----------------------------------+--------+--------------+---------+----------+--------------+----------+\n",
      "only showing top 2 rows\n",
      "\n"
     ]
    }
   ],
   "source": [
    "df.show(2, False)"
   ]
  },
  {
   "cell_type": "markdown",
   "metadata": {},
   "source": [
    "## basic aggregations"
   ]
  },
  {
   "cell_type": "markdown",
   "metadata": {},
   "source": [
    "Spark SQL provides built-in methods for the most common aggregations such as count(), countDistinct(), avg(), max(), min(), etc. in the pyspark.sql.functions module. These methods are not the same as the built-in methods in the Python Standard Library, where we can find min() for example as well, hence you need to be careful not to use them interchangeably.\n",
    "\n",
    "In many cases, there are multiple ways to express the same aggregations. For example, if we would like to compute one type of aggregate for one or more columns of the DataFrame we can just simply chain the aggregate method after a groupBy(). If we would like to use different functions on different columns, agg()comes in handy. For example agg({\"salary\": \"avg\", \"age\": \"max\"}) computes the average salary and maximum age."
   ]
  },
  {
   "cell_type": "code",
   "execution_count": 14,
   "metadata": {},
   "outputs": [
    {
     "name": "stdout",
     "output_type": "stream",
     "text": [
      "+----------------+\n",
      "|count(InvoiceNo)|\n",
      "+----------------+\n",
      "|          541909|\n",
      "+----------------+\n",
      "\n"
     ]
    }
   ],
   "source": [
    "df.select(count('InvoiceNo')) \\\n",
    "    .show()"
   ]
  },
  {
   "cell_type": "code",
   "execution_count": 15,
   "metadata": {},
   "outputs": [
    {
     "data": {
      "text/plain": [
       "541909"
      ]
     },
     "execution_count": 15,
     "metadata": {},
     "output_type": "execute_result"
    }
   ],
   "source": [
    "df.count()"
   ]
  },
  {
   "cell_type": "code",
   "execution_count": 16,
   "metadata": {},
   "outputs": [
    {
     "name": "stdout",
     "output_type": "stream",
     "text": [
      "+-------------------------+\n",
      "|count(DISTINCT InvoiceNo)|\n",
      "+-------------------------+\n",
      "|                    25900|\n",
      "+-------------------------+\n",
      "\n"
     ]
    }
   ],
   "source": [
    "df.select(countDistinct('InvoiceNo')) \\\n",
    "    .show()"
   ]
  },
  {
   "cell_type": "code",
   "execution_count": 18,
   "metadata": {},
   "outputs": [
    {
     "name": "stdout",
     "output_type": "stream",
     "text": [
      "+--------------------------------+\n",
      "|approx_count_distinct(InvoiceNo)|\n",
      "+--------------------------------+\n",
      "|                           26470|\n",
      "+--------------------------------+\n",
      "\n"
     ]
    }
   ],
   "source": [
    "df.select(approx_count_distinct('InvoiceNo')) \\\n",
    "    .show()"
   ]
  },
  {
   "cell_type": "code",
   "execution_count": 19,
   "metadata": {},
   "outputs": [
    {
     "name": "stdout",
     "output_type": "stream",
     "text": [
      "+-----------------------+----------------------+\n",
      "|first(StockCode, false)|last(StockCode, false)|\n",
      "+-----------------------+----------------------+\n",
      "|                 85123A|                 22138|\n",
      "+-----------------------+----------------------+\n",
      "\n"
     ]
    }
   ],
   "source": [
    "df.select(first('StockCode'), last('StockCode')) \\\n",
    "    .show()"
   ]
  },
  {
   "cell_type": "code",
   "execution_count": 20,
   "metadata": {},
   "outputs": [
    {
     "name": "stdout",
     "output_type": "stream",
     "text": [
      "+-------------+-------------+\n",
      "|min(Quantity)|max(Quantity)|\n",
      "+-------------+-------------+\n",
      "|       -80995|        80995|\n",
      "+-------------+-------------+\n",
      "\n"
     ]
    }
   ],
   "source": [
    "df.select(min('Quantity'), max('Quantity')) \\\n",
    "    .show()"
   ]
  },
  {
   "cell_type": "code",
   "execution_count": 27,
   "metadata": {},
   "outputs": [
    {
     "name": "stdout",
     "output_type": "stream",
     "text": [
      "+-------------+----------------------+----------------+------------------+------------------+--------------------+---------------------+\n",
      "|sum(Quantity)|sum(DISTINCT Quantity)|   avg(Quantity)| var_pop(Quantity)|var_samp(Quantity)|stddev_pop(Quantity)|stddev_samp(Quantity)|\n",
      "+-------------+----------------------+----------------+------------------+------------------+--------------------+---------------------+\n",
      "|      5176450|                 29310|9.55224954743324|47559.303646608976| 47559.39140929867|   218.0809566344778|   218.08115785023398|\n",
      "+-------------+----------------------+----------------+------------------+------------------+--------------------+---------------------+\n",
      "\n"
     ]
    }
   ],
   "source": [
    "df.select(sum('Quantity'), \n",
    "          sumDistinct('Quantity'), \n",
    "          avg('Quantity'), \n",
    "          var_pop('Quantity'), \n",
    "          var_samp('Quantity'),\n",
    "          stddev_pop('Quantity'), \n",
    "          stddev_samp('Quantity')) \\\n",
    "    .show()"
   ]
  },
  {
   "cell_type": "markdown",
   "metadata": {},
   "source": [
    "## collect to complex types"
   ]
  },
  {
   "cell_type": "code",
   "execution_count": 28,
   "metadata": {},
   "outputs": [
    {
     "name": "stdout",
     "output_type": "stream",
     "text": [
      "+--------------------+---------------------+\n",
      "|collect_set(Country)|collect_list(Country)|\n",
      "+--------------------+---------------------+\n",
      "|[Portugal, Italy,...| [United Kingdom, ...|\n",
      "+--------------------+---------------------+\n",
      "\n"
     ]
    }
   ],
   "source": [
    "df.agg(collect_set('Country'), collect_list('Country')) \\\n",
    "    .show()"
   ]
  },
  {
   "cell_type": "markdown",
   "metadata": {},
   "source": [
    "## grouping"
   ]
  },
  {
   "cell_type": "code",
   "execution_count": 37,
   "metadata": {},
   "outputs": [
    {
     "name": "stdout",
     "output_type": "stream",
     "text": [
      "+---------+----------+-----+\n",
      "|InvoiceNo|CustomerId|count|\n",
      "+---------+----------+-----+\n",
      "|536762   |16186     |20   |\n",
      "+---------+----------+-----+\n",
      "\n"
     ]
    }
   ],
   "source": [
    "df.where('InvoiceNo = 536762') \\\n",
    "    .groupBy('InvoiceNo', 'CustomerId') \\\n",
    "    .count() \\\n",
    "    .show(5, False)"
   ]
  },
  {
   "cell_type": "code",
   "execution_count": 43,
   "metadata": {},
   "outputs": [
    {
     "name": "stdout",
     "output_type": "stream",
     "text": [
      "+---------+----------+--------+---------------+---------------------+\n",
      "|InvoiceNo|CustomerId|quantity|count(Quantity)|first(Country, false)|\n",
      "+---------+----------+--------+---------------+---------------------+\n",
      "|536762   |16186     |20      |20             |United Kingdom       |\n",
      "+---------+----------+--------+---------------+---------------------+\n",
      "\n"
     ]
    }
   ],
   "source": [
    "df.where('InvoiceNo = 536762') \\\n",
    "    .groupBy('InvoiceNo', 'CustomerId') \\\n",
    "    .agg(count('Quantity').alias('quantity'), expr('count(Quantity)'), first('Country')) \\\n",
    "    .show(5, False)"
   ]
  },
  {
   "cell_type": "markdown",
   "metadata": {},
   "source": [
    "## window functions"
   ]
  },
  {
   "cell_type": "markdown",
   "metadata": {},
   "source": [
    "Window functions are a way of combining the values of ranges of rows in a DataFrame. When defining the window we can choose how to sort and group (with the partitionBy method) the rows and how wide of a window we'd like to use (described by rangeBetween or rowsBetween)."
   ]
  },
  {
   "cell_type": "code",
   "execution_count": 98,
   "metadata": {},
   "outputs": [],
   "source": [
    "window_specification = Window.partitionBy('CustomerId', 'date') \\\n",
    "    .orderBy(desc('Quantity')) \\\n",
    "    .rowsBetween(Window.unboundedPreceding, Window.currentRow)"
   ]
  },
  {
   "cell_type": "code",
   "execution_count": 99,
   "metadata": {},
   "outputs": [],
   "source": [
    "max_purchase_quantity = max(col('Quantity')).over(window_specification)\n",
    "purchase_dense_rank = dense_rank().over(window_specification)\n",
    "purchase_rank = rank().over(window_specification)"
   ]
  },
  {
   "cell_type": "code",
   "execution_count": 101,
   "metadata": {},
   "outputs": [
    {
     "name": "stdout",
     "output_type": "stream",
     "text": [
      "+---------------+---------+--------------------+--------+------------+-----------------+-----------+\n",
      "|    InvoiceDate|InvoiceNo|         Description|Quantity|quantityRank|quantityDenseRank|maxQuantity|\n",
      "+---------------+---------+--------------------+--------+------------+-----------------+-----------+\n",
      "| 4/7/2011 10:43|   549222|ICE CREAM SUNDAE ...|     240|           1|                1|        240|\n",
      "| 4/7/2011 10:43|   549222|MINI PAINT SET VI...|      36|           2|                2|        240|\n",
      "| 4/7/2011 10:43|   549222|PACK OF 60 DINOSA...|      24|           3|                3|        240|\n",
      "| 4/7/2011 10:43|   549222|SMALL FOLDING SCI...|      24|           3|                3|        240|\n",
      "| 4/7/2011 10:43|   549222|VINTAGE HEADS AND...|      12|           5|                4|        240|\n",
      "| 4/7/2011 10:43|   549222|RED DRAWER KNOB A...|      12|           5|                4|        240|\n",
      "| 4/7/2011 10:43|   549222|LARGE HEART MEASU...|      12|           5|                4|        240|\n",
      "| 4/7/2011 10:43|   549222|SMALL HEART MEASU...|      12|           5|                4|        240|\n",
      "| 4/7/2011 10:43|   549222|RED TOADSTOOL LED...|      12|           5|                4|        240|\n",
      "| 4/7/2011 10:43|   549222|3D SHEET OF DOG S...|      12|           5|                4|        240|\n",
      "| 4/7/2011 10:43|   549222|3D SHEET OF CAT S...|      12|           5|                4|        240|\n",
      "| 4/7/2011 10:43|   549222|GIFT BAG PSYCHEDE...|      12|           5|                4|        240|\n",
      "| 4/7/2011 10:43|   549222|    HOLIDAY FUN LUDO|       8|          13|                5|        240|\n",
      "| 4/7/2011 10:43|   549222|TREASURE ISLAND B...|       8|          13|                5|        240|\n",
      "| 4/7/2011 10:43|   549222|RED RETROSPOT PURSE |       6|          15|                6|        240|\n",
      "| 4/7/2011 10:43|   549222|WATERING CAN PINK...|       6|          15|                6|        240|\n",
      "| 4/7/2011 10:43|   549222|RED RETROSPOT OVE...|       6|          15|                6|        240|\n",
      "| 4/7/2011 10:43|   549222|ROSES REGENCY TEA...|       6|          15|                6|        240|\n",
      "| 4/7/2011 10:43|   549222|AIRLINE BAG VINTA...|       4|          19|                7|        240|\n",
      "| 4/7/2011 10:43|   549222|AIRLINE BAG VINTA...|       4|          19|                7|        240|\n",
      "| 4/7/2011 10:43|   549222|AIRLINE BAG VINTA...|       4|          19|                7|        240|\n",
      "| 4/7/2011 10:43|   549222|AIRLINE BAG VINTA...|       4|          19|                7|        240|\n",
      "| 4/7/2011 10:43|   549222|SET OF 2 TINS VIN...|       4|          19|                7|        240|\n",
      "| 4/7/2011 10:43|   549222|REGENCY CAKESTAND...|       3|          24|                8|        240|\n",
      "|12/7/2010 14:57|   537626|MINI PAINT SET VI...|      36|           1|                1|         36|\n",
      "|12/7/2010 14:57|   537626|BLACK GRAND BAROQ...|      30|           2|                2|         36|\n",
      "|12/7/2010 14:57|   537626|3D DOG PICTURE PL...|      24|           3|                3|         36|\n",
      "|12/7/2010 14:57|   537626|BLACK CANDELABRA ...|      12|           4|                4|         36|\n",
      "|12/7/2010 14:57|   537626|COLOUR GLASS. STA...|      12|           4|                4|         36|\n",
      "|12/7/2010 14:57|   537626|CLEAR DRAWER KNOB...|      12|           4|                4|         36|\n",
      "|12/7/2010 14:57|   537626|PINK DRAWER KNOB ...|      12|           4|                4|         36|\n",
      "|12/7/2010 14:57|   537626|GREEN DRAWER KNOB...|      12|           4|                4|         36|\n",
      "|12/7/2010 14:57|   537626|RED DRAWER KNOB A...|      12|           4|                4|         36|\n",
      "|12/7/2010 14:57|   537626|PURPLE DRAWERKNOB...|      12|           4|                4|         36|\n",
      "|12/7/2010 14:57|   537626|BLUE DRAWER KNOB ...|      12|           4|                4|         36|\n",
      "|12/7/2010 14:57|   537626|BATHROOM METAL SIGN |      12|           4|                4|         36|\n",
      "|12/7/2010 14:57|   537626|LARGE HEART MEASU...|      12|           4|                4|         36|\n",
      "|12/7/2010 14:57|   537626|EMERGENCY FIRST A...|      12|           4|                4|         36|\n",
      "|12/7/2010 14:57|   537626|RED TOADSTOOL LED...|      12|           4|                4|         36|\n",
      "|12/7/2010 14:57|   537626|BLACK EAR MUFF HE...|      12|           4|                4|         36|\n",
      "|12/7/2010 14:57|   537626|FOUR HOOK  WHITE ...|       6|          17|                5|         36|\n",
      "|12/7/2010 14:57|   537626|BOX OF 6 ASSORTED...|       6|          17|                5|         36|\n",
      "|12/7/2010 14:57|   537626|BLUE 3 PIECE POLK...|       6|          17|                5|         36|\n",
      "|12/7/2010 14:57|   537626|RED 3 PIECE RETRO...|       6|          17|                5|         36|\n",
      "|12/7/2010 14:57|   537626|PINK 3 PIECE POLK...|       6|          17|                5|         36|\n",
      "|12/7/2010 14:57|   537626|BOOM BOX SPEAKER ...|       6|          17|                5|         36|\n",
      "|12/7/2010 14:57|   537626|CAMOUFLAGE EAR MU...|       6|          17|                5|         36|\n",
      "|12/7/2010 14:57|   537626|AIRLINE BAG VINTA...|       4|          24|                6|         36|\n",
      "|12/7/2010 14:57|   537626|ALARM CLOCK BAKEL...|       4|          24|                6|         36|\n",
      "|12/7/2010 14:57|   537626|ALARM CLOCK BAKEL...|       4|          24|                6|         36|\n",
      "|12/7/2010 14:57|   537626|ALARM CLOCK BAKEL...|       4|          24|                6|         36|\n",
      "|12/7/2010 14:57|   537626|ALARM CLOCK BAKEL...|       4|          24|                6|         36|\n",
      "|12/7/2010 14:57|   537626|ALARM CLOCK BAKEL...|       4|          24|                6|         36|\n",
      "|12/7/2010 14:57|   537626|SET OF 2 TINS VIN...|       4|          24|                6|         36|\n",
      "|12/7/2010 14:57|   537626|SET/3 DECOUPAGE S...|       3|          31|                7|         36|\n",
      "|12/7/2011 15:52|   581180|BOOM BOX SPEAKER ...|      24|           1|                1|         24|\n",
      "|12/7/2011 15:52|   581180|PINK NEW BAROQUEC...|      24|           1|                1|         24|\n",
      "|12/7/2011 15:52|   581180|RED TOADSTOOL LED...|      24|           1|                1|         24|\n",
      "|12/7/2011 15:52|   581180|  RABBIT NIGHT LIGHT|      24|           1|                1|         24|\n",
      "|12/7/2011 15:52|   581180|MINI PLAYING CARD...|      20|           5|                2|         24|\n",
      "|12/7/2011 15:52|   581180|MINI PLAYING CARD...|      20|           5|                2|         24|\n",
      "|12/7/2011 15:52|   581180|CHRISTMAS TABLE S...|      16|           7|                3|         24|\n",
      "|12/7/2011 15:52|   581180|CLASSIC CHROME BI...|      12|           8|                4|         24|\n",
      "|12/7/2011 15:52|   581180|PINK GOOSE FEATHE...|      12|           8|                4|         24|\n",
      "|12/7/2011 15:52|   581180|WOODLAND CHARLOTT...|      10|          10|                5|         24|\n",
      "|12/7/2011 15:52|   581180|BICYCLE PUNCTURE ...|       6|          11|                6|         24|\n",
      "|1/26/2011 14:30|   542237|PINK NEW BAROQUEC...|      24|           1|                1|         24|\n",
      "|1/26/2011 14:30|   542237|BLUE NEW BAROQUE ...|      24|           1|                1|         24|\n",
      "|1/26/2011 14:30|   542237|72 SWEETHEART FAI...|      24|           1|                1|         24|\n",
      "|1/26/2011 14:30|   542237|60 TEATIME FAIRY ...|      24|           1|                1|         24|\n",
      "|1/26/2011 14:30|   542237|PACK OF 60 MUSHRO...|      24|           1|                1|         24|\n",
      "|1/26/2011 14:30|   542237|PACK OF 60 SPACEB...|      24|           1|                1|         24|\n",
      "|1/26/2011 14:30|   542237|SMALL HEART MEASU...|      12|           7|                2|         24|\n",
      "|1/26/2011 14:30|   542237|MINI LADLE LOVE H...|      12|           7|                2|         24|\n",
      "|1/26/2011 14:30|   542237|CHOCOLATE CALCULATOR|      12|           7|                2|         24|\n",
      "|1/26/2011 14:30|   542237| TOOTHPASTE TUBE PEN|      12|           7|                2|         24|\n",
      "|1/26/2011 14:30|   542237|RED TOADSTOOL LED...|      12|           7|                2|         24|\n",
      "|1/26/2011 14:30|   542237|3D DOG PICTURE PL...|      12|           7|                2|         24|\n",
      "|1/26/2011 14:30|   542237|WOODLAND CHARLOTT...|      10|          13|                3|         24|\n",
      "|1/26/2011 14:30|   542237|SANDWICH BATH SPONGE|      10|          13|                3|         24|\n",
      "|1/26/2011 14:30|   542237| TEA TIME OVEN GLOVE|      10|          13|                3|         24|\n",
      "|1/26/2011 14:30|   542237|RED RETROSPOT OVE...|      10|          13|                3|         24|\n",
      "|1/26/2011 14:30|   542237|BLACK CANDELABRA ...|       6|          17|                4|         24|\n",
      "|1/26/2011 14:30|   542237|RED RETROSPOT OVE...|       6|          17|                4|         24|\n",
      "|1/26/2011 14:30|   542237|SET/2 RED RETROSP...|       6|          17|                4|         24|\n",
      "|1/26/2011 14:30|   542237|BOX OF 6 ASSORTED...|       6|          17|                4|         24|\n",
      "|1/26/2011 14:30|   542237|AIRLINE BAG VINTA...|       4|          21|                5|         24|\n",
      "|1/26/2011 14:30|   542237|AIRLINE BAG VINTA...|       4|          21|                5|         24|\n",
      "|1/26/2011 14:30|   542237|ALARM CLOCK BAKEL...|       4|          21|                5|         24|\n",
      "|1/26/2011 14:30|   542237|ALARM CLOCK BAKEL...|       4|          21|                5|         24|\n",
      "|1/26/2011 14:30|   542237|ALARM CLOCK BAKEL...|       4|          21|                5|         24|\n",
      "|1/26/2011 14:30|   542237|ALARM CLOCK BAKEL...|       4|          21|                5|         24|\n",
      "|1/26/2011 14:30|   542237|ALARM CLOCK BAKEL...|       4|          21|                5|         24|\n",
      "|1/26/2011 14:30|   542237|SET OF 2 TINS VIN...|       4|          21|                5|         24|\n",
      "|1/26/2011 14:30|   542237|REGENCY CAKESTAND...|       3|          29|                6|         24|\n",
      "| 6/9/2011 13:01|   556201|NAMASTE SWAGAT IN...|      36|           1|                1|         36|\n",
      "| 6/9/2011 13:01|   556201|SMALL HEART MEASU...|      24|           2|                2|         36|\n",
      "| 6/9/2011 13:01|   556201|3D DOG PICTURE PL...|      18|           3|                3|         36|\n",
      "| 6/9/2011 13:01|   556201|  RABBIT NIGHT LIGHT|      12|           4|                4|         36|\n",
      "| 6/9/2011 13:01|   556201|REGENCY TEA PLATE...|      12|           4|                4|         36|\n",
      "+---------------+---------+--------------------+--------+------------+-----------------+-----------+\n",
      "only showing top 100 rows\n",
      "\n"
     ]
    }
   ],
   "source": [
    "df.select(\n",
    "        col('InvoiceDate'), col('InvoiceNo'), col('Description'), col('Quantity'), \n",
    "        purchase_rank.alias('quantityRank'),\n",
    "        purchase_dense_rank.alias('quantityDenseRank'),\n",
    "        max_purchase_quantity.alias('maxQuantity')) \\\n",
    "    .where('CustomerId = 12347') \\\n",
    "    .show(100)"
   ]
  },
  {
   "cell_type": "markdown",
   "metadata": {},
   "source": [
    "## rollups"
   ]
  },
  {
   "cell_type": "code",
   "execution_count": 116,
   "metadata": {},
   "outputs": [
    {
     "name": "stdout",
     "output_type": "stream",
     "text": [
      "+----------+--------------+-------+\n",
      "|      date|       Country|    sum|\n",
      "+----------+--------------+-------+\n",
      "|      null|          null|5176450|\n",
      "|2010-12-01|          null|  26814|\n",
      "|2010-12-01|United Kingdom|  23949|\n",
      "|2010-12-02|          null|  21023|\n",
      "|2010-12-02|United Kingdom|  20873|\n",
      "|2010-12-01|        Norway|   1852|\n",
      "|2010-12-01|        France|    449|\n",
      "|2010-12-01|          EIRE|    243|\n",
      "|2010-12-02|       Germany|    146|\n",
      "|2010-12-01|       Germany|    117|\n",
      "|2010-12-01|     Australia|    107|\n",
      "|2010-12-01|   Netherlands|     97|\n",
      "|2010-12-02|          EIRE|      4|\n",
      "+----------+--------------+-------+\n",
      "\n"
     ]
    }
   ],
   "source": [
    "df.rollup('date', 'Country') \\\n",
    "    .agg(sum('Quantity').alias('sum')) \\\n",
    "    .orderBy(desc('sum')) \\\n",
    "    .where('date >= \"2010-12-01\" and date <= \"2010-12-02\" or date is null') \\\n",
    "    .show()"
   ]
  },
  {
   "cell_type": "markdown",
   "metadata": {},
   "source": [
    "## cubes"
   ]
  },
  {
   "cell_type": "code",
   "execution_count": 119,
   "metadata": {},
   "outputs": [
    {
     "name": "stdout",
     "output_type": "stream",
     "text": [
      "+----------+---------------+-------+\n",
      "|      date|        Country|    sum|\n",
      "+----------+---------------+-------+\n",
      "|      null|           null|5176450|\n",
      "|      null| United Kingdom|4263829|\n",
      "|      null|    Netherlands| 200128|\n",
      "|      null|           EIRE| 142637|\n",
      "|      null|        Germany| 117448|\n",
      "|      null|         France| 110480|\n",
      "|      null|      Australia|  83653|\n",
      "|      null|         Sweden|  35637|\n",
      "|      null|    Switzerland|  30325|\n",
      "|      null|          Spain|  26824|\n",
      "|2010-12-01|           null|  26814|\n",
      "|      null|          Japan|  25218|\n",
      "|2010-12-01| United Kingdom|  23949|\n",
      "|      null|        Belgium|  23152|\n",
      "|2010-12-02|           null|  21023|\n",
      "|2010-12-02| United Kingdom|  20873|\n",
      "|      null|         Norway|  19247|\n",
      "|      null|       Portugal|  16180|\n",
      "|      null|        Finland|  10666|\n",
      "|      null|Channel Islands|   9479|\n",
      "+----------+---------------+-------+\n",
      "only showing top 20 rows\n",
      "\n"
     ]
    }
   ],
   "source": [
    "df.cube('date', 'Country') \\\n",
    "    .agg(sum('Quantity').alias('sum')) \\\n",
    "    .orderBy(desc('sum')) \\\n",
    "    .where('date >= \"2010-12-01\" and date <= \"2010-12-02\" or date is null') \\\n",
    "    .show(20)"
   ]
  },
  {
   "cell_type": "markdown",
   "metadata": {},
   "source": [
    "## pivots"
   ]
  },
  {
   "cell_type": "code",
   "execution_count": 127,
   "metadata": {},
   "outputs": [
    {
     "name": "stdout",
     "output_type": "stream",
     "text": [
      "+----------+---------------------------------+------------------------------------+\n",
      "|      date|USA_sum(CAST(Quantity AS BIGINT))|France_sum(CAST(Quantity AS BIGINT))|\n",
      "+----------+---------------------------------+------------------------------------+\n",
      "|2011-12-09|                             null|                                 105|\n",
      "|2011-12-06|                             null|                                 787|\n",
      "|2011-12-08|                             -196|                                  18|\n",
      "|2011-12-07|                             null|                                 561|\n",
      "+----------+---------------------------------+------------------------------------+\n",
      "\n"
     ]
    }
   ],
   "source": [
    "df.groupBy('date') \\\n",
    "    .pivot('Country') \\\n",
    "    .sum() \\\n",
    "    .where('date > \"2011-12-05\"') \\\n",
    "    .select('date', '`USA_sum(CAST(Quantity AS BIGINT))`', '`France_sum(CAST(Quantity AS BIGINT))`') \\\n",
    "    .show()"
   ]
  },
  {
   "cell_type": "code",
   "execution_count": 138,
   "metadata": {},
   "outputs": [
    {
     "name": "stdout",
     "output_type": "stream",
     "text": [
      "+----------+-------+-------------+\n",
      "|      date|Country|sum(Quantity)|\n",
      "+----------+-------+-------------+\n",
      "|2011-12-07| France|          561|\n",
      "|2011-12-08|    USA|         -196|\n",
      "|2011-12-09| France|          105|\n",
      "|2011-12-06| France|          787|\n",
      "|2011-12-08| France|           18|\n",
      "+----------+-------+-------------+\n",
      "\n"
     ]
    }
   ],
   "source": [
    "df.where('date between \"2011-12-06\" and \"2011-12-09\"') \\\n",
    "    .where('Country = \"France\" or Country = \"USA\"') \\\n",
    "    .groupBy('date', 'Country') \\\n",
    "    .sum() \\\n",
    "    .select('date', 'Country', 'sum(Quantity)') \\\n",
    "    .show()"
   ]
  },
  {
   "cell_type": "code",
   "execution_count": null,
   "metadata": {},
   "outputs": [],
   "source": []
  }
 ],
 "metadata": {
  "kernelspec": {
   "display_name": "Python 3",
   "language": "python",
   "name": "python3"
  },
  "language_info": {
   "codemirror_mode": {
    "name": "ipython",
    "version": 3
   },
   "file_extension": ".py",
   "mimetype": "text/x-python",
   "name": "python",
   "nbconvert_exporter": "python",
   "pygments_lexer": "ipython3",
   "version": "3.7.5"
  }
 },
 "nbformat": 4,
 "nbformat_minor": 2
}
