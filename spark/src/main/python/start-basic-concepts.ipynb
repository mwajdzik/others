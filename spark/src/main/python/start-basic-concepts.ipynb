{
 "cells": [
  {
   "cell_type": "code",
   "execution_count": 2,
   "metadata": {
    "collapsed": true,
    "pycharm": {
     "is_executing": false
    }
   },
   "outputs": [],
   "source": [
    "from pyspark.sql import SparkSession\n",
    "from pyspark.sql.functions import desc\n",
    "\n",
    "# http://localhost:4040\n",
    "spark = SparkSession.builder.getOrCreate()\n",
    "spark.conf.set('spark.sql.shuffle.partitions', '5')\n"
   ]
  },
  {
   "cell_type": "code",
   "execution_count": 5,
   "outputs": [
    {
     "name": "stdout",
     "text": [
      "+--------------------+-------------------+-----+\n|   DEST_COUNTRY_NAME|ORIGIN_COUNTRY_NAME|count|\n+--------------------+-------------------+-----+\n|       United States|            Romania|   15|\n|       United States|            Croatia|    1|\n|       United States|            Ireland|  344|\n|               Egypt|      United States|   15|\n|       United States|              India|   62|\n|       United States|          Singapore|    1|\n|       United States|            Grenada|   62|\n|          Costa Rica|      United States|  588|\n|             Senegal|      United States|   40|\n|             Moldova|      United States|    1|\n|       United States|       Sint Maarten|  325|\n|       United States|   Marshall Islands|   39|\n|              Guyana|      United States|   64|\n|               Malta|      United States|    1|\n|            Anguilla|      United States|   41|\n|             Bolivia|      United States|   30|\n|       United States|           Paraguay|    6|\n|             Algeria|      United States|    4|\n|Turks and Caicos ...|      United States|  230|\n|       United States|          Gibraltar|    1|\n+--------------------+-------------------+-----+\nonly showing top 20 rows\n\nroot\n |-- DEST_COUNTRY_NAME: string (nullable = true)\n |-- ORIGIN_COUNTRY_NAME: string (nullable = true)\n |-- count: integer (nullable = true)\n\n"
     ],
     "output_type": "stream"
    }
   ],
   "source": [
    "df = spark.read.format('csv')\\\n",
    "    .option('header', 'true')\\\n",
    "    .option('inferSchema', 'true')\\\n",
    "    .load('/Users/sg0218817/Downloads/Spark-The-Definitive-Guide-master/data/flight-data/csv/2015-summary.csv')\n",
    "\n",
    "df.show()\n",
    "df.printSchema()\n"
   ],
   "metadata": {
    "pycharm": {
     "metadata": false,
     "name": "#%%\n",
     "is_executing": false
    }
   }
  },
  {
   "cell_type": "code",
   "execution_count": 6,
   "outputs": [
    {
     "name": "stdout",
     "text": [
      "== Physical Plan ==\n*(2) Sort [count#41 DESC NULLS LAST], true, 0\n+- Exchange rangepartitioning(count#41 DESC NULLS LAST, 5)\n   +- *(1) Project [ORIGIN_COUNTRY_NAME#40, DEST_COUNTRY_NAME#39, count#41]\n      +- *(1) Filter (isnotnull(count#41) && (count#41 > 10))\n         +- *(1) FileScan csv [DEST_COUNTRY_NAME#39,ORIGIN_COUNTRY_NAME#40,count#41] Batched: false, Format: CSV, Location: InMemoryFileIndex[file:/Users/sg0218817/Downloads/Spark-The-Definitive-Guide-master/data/flight-d..., PartitionFilters: [], PushedFilters: [IsNotNull(count), GreaterThan(count,10)], ReadSchema: struct<DEST_COUNTRY_NAME:string,ORIGIN_COUNTRY_NAME:string,count:int>\n"
     ],
     "output_type": "stream"
    }
   ],
   "source": [
    "df.filter('count > 10')\\\n",
    "    .select('ORIGIN_COUNTRY_NAME', 'DEST_COUNTRY_NAME', 'count') \\\n",
    "    .sort('count', ascending=False)\\\n",
    "    .explain()\n",
    "\n"
   ],
   "metadata": {
    "collapsed": false,
    "pycharm": {
     "name": "#%%\n",
     "is_executing": false
    }
   }
  },
  {
   "cell_type": "code",
   "execution_count": 7,
   "outputs": [
    {
     "name": "stdout",
     "text": [
      "+-------------------+------------------+------+\n|ORIGIN_COUNTRY_NAME| DEST_COUNTRY_NAME| count|\n+-------------------+------------------+------+\n|      United States|     United States|370002|\n|             Canada|     United States|  8483|\n|      United States|            Canada|  8399|\n|             Mexico|     United States|  7187|\n|      United States|            Mexico|  7140|\n|      United States|    United Kingdom|  2025|\n|     United Kingdom|     United States|  1970|\n|      United States|             Japan|  1548|\n|              Japan|     United States|  1496|\n|      United States|           Germany|  1468|\n| Dominican Republic|     United States|  1420|\n|      United States|Dominican Republic|  1353|\n|            Germany|     United States|  1336|\n|      United States|       South Korea|  1048|\n|        The Bahamas|     United States|   986|\n|      United States|       The Bahamas|   955|\n|             France|     United States|   952|\n|      United States|            France|   935|\n|              China|     United States|   920|\n|      United States|          Colombia|   873|\n+-------------------+------------------+------+\nonly showing top 20 rows\n\n== Physical Plan ==\n*(2) Sort [count#41 DESC NULLS LAST], true, 0\n+- Exchange rangepartitioning(count#41 DESC NULLS LAST, 5)\n   +- *(1) Project [ORIGIN_COUNTRY_NAME#40, DEST_COUNTRY_NAME#39, count#41]\n      +- *(1) Filter (isnotnull(count#41) && (count#41 > 10))\n         +- *(1) FileScan csv [DEST_COUNTRY_NAME#39,ORIGIN_COUNTRY_NAME#40,count#41] Batched: false, Format: CSV, Location: InMemoryFileIndex[file:/Users/sg0218817/Downloads/Spark-The-Definitive-Guide-master/data/flight-d..., PartitionFilters: [], PushedFilters: [IsNotNull(count), GreaterThan(count,10)], ReadSchema: struct<DEST_COUNTRY_NAME:string,ORIGIN_COUNTRY_NAME:string,count:int>\n"
     ],
     "output_type": "stream"
    }
   ],
   "source": [
    "df1 = df.filter('count > 10')\\\n",
    "    .select('ORIGIN_COUNTRY_NAME', 'DEST_COUNTRY_NAME', 'count') \\\n",
    "    .sort('count', ascending=False)\n",
    "\n",
    "df1.show()\n",
    "df1.explain()\n"
   ],
   "metadata": {
    "collapsed": false,
    "pycharm": {
     "name": "#%%\n",
     "is_executing": false
    }
   }
  },
  {
   "cell_type": "code",
   "execution_count": 8,
   "outputs": [
    {
     "name": "stdout",
     "text": [
      "+-------------------+------------------+------+\n|ORIGIN_COUNTRY_NAME| DEST_COUNTRY_NAME| count|\n+-------------------+------------------+------+\n|      United States|     United States|370002|\n|             Canada|     United States|  8483|\n|      United States|            Canada|  8399|\n|             Mexico|     United States|  7187|\n|      United States|            Mexico|  7140|\n|      United States|    United Kingdom|  2025|\n|     United Kingdom|     United States|  1970|\n|      United States|             Japan|  1548|\n|              Japan|     United States|  1496|\n|      United States|           Germany|  1468|\n| Dominican Republic|     United States|  1420|\n|      United States|Dominican Republic|  1353|\n|            Germany|     United States|  1336|\n|      United States|       South Korea|  1048|\n|        The Bahamas|     United States|   986|\n|      United States|       The Bahamas|   955|\n|             France|     United States|   952|\n|      United States|            France|   935|\n|              China|     United States|   920|\n|      United States|          Colombia|   873|\n+-------------------+------------------+------+\nonly showing top 20 rows\n\n== Physical Plan ==\n*(2) Sort [count#41 DESC NULLS LAST], true, 0\n+- Exchange rangepartitioning(count#41 DESC NULLS LAST, 5)\n   +- *(1) Project [ORIGIN_COUNTRY_NAME#40, DEST_COUNTRY_NAME#39, count#41]\n      +- *(1) Filter (isnotnull(count#41) && (count#41 > 10))\n         +- *(1) FileScan csv [DEST_COUNTRY_NAME#39,ORIGIN_COUNTRY_NAME#40,count#41] Batched: false, Format: CSV, Location: InMemoryFileIndex[file:/Users/sg0218817/Downloads/Spark-The-Definitive-Guide-master/data/flight-d..., PartitionFilters: [], PushedFilters: [IsNotNull(count), GreaterThan(count,10)], ReadSchema: struct<DEST_COUNTRY_NAME:string,ORIGIN_COUNTRY_NAME:string,count:int>\n"
     ],
     "output_type": "stream"
    }
   ],
   "source": [
    "df.createOrReplaceTempView('flight_data')\n",
    "\n",
    "df2 = spark.sql('SELECT ORIGIN_COUNTRY_NAME, DEST_COUNTRY_NAME, count '\n",
    "               'FROM flight_data '\n",
    "               'WHERE count > 10 '\n",
    "               'ORDER BY count DESC')\n",
    "\n",
    "df2.show()\n",
    "df2.explain()\n"
   ],
   "metadata": {
    "collapsed": false,
    "pycharm": {
     "name": "#%%\n",
     "is_executing": false
    }
   }
  },
  {
   "cell_type": "code",
   "execution_count": 9,
   "outputs": [
    {
     "name": "stdout",
     "text": [
      "+-----------------+-----------------+\n|DEST_COUNTRY_NAME|destination_total|\n+-----------------+-----------------+\n|    United States|           411352|\n|           Canada|             8399|\n|           Mexico|             7140|\n|   United Kingdom|             2025|\n|            Japan|             1548|\n+-----------------+-----------------+\n\n== Physical Plan ==\nTakeOrderedAndProject(limit=5, orderBy=[destination_total#100L DESC NULLS LAST], output=[DEST_COUNTRY_NAME#39,destination_total#100L])\n+- *(2) HashAggregate(keys=[DEST_COUNTRY_NAME#39], functions=[sum(cast(count#41 as bigint))])\n   +- Exchange hashpartitioning(DEST_COUNTRY_NAME#39, 5)\n      +- *(1) HashAggregate(keys=[DEST_COUNTRY_NAME#39], functions=[partial_sum(cast(count#41 as bigint))])\n         +- *(1) FileScan csv [DEST_COUNTRY_NAME#39,count#41] Batched: false, Format: CSV, Location: InMemoryFileIndex[file:/Users/sg0218817/Downloads/Spark-The-Definitive-Guide-master/data/flight-d..., PartitionFilters: [], PushedFilters: [], ReadSchema: struct<DEST_COUNTRY_NAME:string,count:int>\n"
     ],
     "output_type": "stream"
    }
   ],
   "source": [
    "df3 = df.groupBy('DEST_COUNTRY_NAME') \\\n",
    "    .sum('count')\\\n",
    "    .withColumnRenamed('sum(count)', 'destination_total')\\\n",
    "    .sort(desc('destination_total'))\\\n",
    "    .limit(5)\n",
    "\n",
    "df3.show()\n",
    "df3.explain()\n"
   ],
   "metadata": {
    "collapsed": false,
    "pycharm": {
     "name": "#%%\n",
     "is_executing": false
    }
   }
  },
  {
   "cell_type": "code",
   "execution_count": 10,
   "outputs": [
    {
     "name": "stdout",
     "text": [
      "+-----------------+-----------------+\n|DEST_COUNTRY_NAME|destination_total|\n+-----------------+-----------------+\n|    United States|           411352|\n|           Canada|             8399|\n|           Mexico|             7140|\n|   United Kingdom|             2025|\n|            Japan|             1548|\n+-----------------+-----------------+\n\n== Physical Plan ==\nTakeOrderedAndProject(limit=5, orderBy=[destination_total#114L DESC NULLS LAST], output=[DEST_COUNTRY_NAME#39,destination_total#114L])\n+- *(2) HashAggregate(keys=[DEST_COUNTRY_NAME#39], functions=[sum(cast(count#41 as bigint))])\n   +- Exchange hashpartitioning(DEST_COUNTRY_NAME#39, 5)\n      +- *(1) HashAggregate(keys=[DEST_COUNTRY_NAME#39], functions=[partial_sum(cast(count#41 as bigint))])\n         +- *(1) FileScan csv [DEST_COUNTRY_NAME#39,count#41] Batched: false, Format: CSV, Location: InMemoryFileIndex[file:/Users/sg0218817/Downloads/Spark-The-Definitive-Guide-master/data/flight-d..., PartitionFilters: [], PushedFilters: [], ReadSchema: struct<DEST_COUNTRY_NAME:string,count:int>\n"
     ],
     "output_type": "stream"
    }
   ],
   "source": [
    "df4 = spark.sql('SELECT DEST_COUNTRY_NAME, SUM(count) AS destination_total '\n",
    "                'FROM flight_data '\n",
    "                'GROUP BY DEST_COUNTRY_NAME '\n",
    "                'ORDER BY destination_total DESC '\n",
    "                'LIMIT 5')\n",
    "\n",
    "df4.show()\n",
    "df4.explain()\n"
   ],
   "metadata": {
    "collapsed": false,
    "pycharm": {
     "name": "#%%\n",
     "is_executing": false
    }
   }
  },
  {
   "cell_type": "code",
   "execution_count": null,
   "outputs": [],
   "source": [
    "\n"
   ],
   "metadata": {
    "collapsed": false,
    "pycharm": {
     "name": "#%%\n"
    }
   }
  }
 ],
 "metadata": {
  "language_info": {
   "codemirror_mode": {
    "name": "ipython",
    "version": 2
   },
   "file_extension": ".py",
   "mimetype": "text/x-python",
   "name": "python",
   "nbconvert_exporter": "python",
   "pygments_lexer": "ipython2",
   "version": "2.7.6"
  },
  "kernelspec": {
   "name": "python3",
   "language": "python",
   "display_name": "Python 3"
  },
  "pycharm": {
   "stem_cell": {
    "cell_type": "raw",
    "source": [],
    "metadata": {
     "collapsed": false
    }
   }
  }
 },
 "nbformat": 4,
 "nbformat_minor": 0
}