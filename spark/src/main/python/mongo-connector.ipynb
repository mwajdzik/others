{
 "cells": [
  {
   "cell_type": "code",
   "execution_count": 9,
   "metadata": {
    "collapsed": true,
    "pycharm": {
     "is_executing": false
    }
   },
   "outputs": [],
   "source": [
    "\n",
    "from pyspark import SparkConf\n",
    "from pyspark.sql import SparkSession\n",
    "\n",
    "conf = SparkConf()\n",
    "conf.set(\"spark.jars.packages\", \"org.mongodb.spark:mongo-spark-connector_2.12:2.4.0\")\n",
    "conf.set(\"spark.mongodb.input.uri\", \"mongodb://127.0.0.1/test.coll\")\n",
    "conf.set(\"spark.mongodb.output.uri\", \"mongodb://127.0.0.1/test.coll\")\n",
    "\n",
    "spark = SparkSession.builder \\\n",
    "    .appName(\"test-mongo\") \\\n",
    "    .master('local[*]') \\\n",
    "    .config(conf=conf) \\\n",
    "    .getOrCreate()\n"
   ]
  },
  {
   "cell_type": "code",
   "execution_count": 10,
   "outputs": [
    {
     "name": "stdout",
     "text": [
      "+-------------+----+\n|         name| age|\n+-------------+----+\n|Bilbo Baggins|  50|\n|      Gandalf|1000|\n|       Thorin| 195|\n|        Balin| 178|\n|         Kili|  77|\n|       Dwalin| 169|\n|          Oin| 167|\n|        Gloin| 158|\n|         Fili|  82|\n|       Bombur|null|\n+-------------+----+\n\n"
     ],
     "output_type": "stream"
    }
   ],
   "source": [
    "\n",
    "people = spark.createDataFrame([\n",
    "    (\"Bilbo Baggins\",  50), (\"Gandalf\", 1000), (\"Thorin\", 195),\n",
    "    (\"Balin\", 178), (\"Kili\", 77), (\"Dwalin\", 169), (\"Oin\", 167),\n",
    "    (\"Gloin\", 158), (\"Fili\", 82), (\"Bombur\", None)], [\"name\", \"age\"])\n",
    "\n",
    "people.show()\n"
   ],
   "metadata": {
    "pycharm": {
     "metadata": false,
     "name": "#%%\n",
     "is_executing": false
    }
   }
  },
  {
   "cell_type": "code",
   "execution_count": 14,
   "outputs": [
    {
     "name": "stdout",
     "text": [
      "WRITE\nroot\n |-- name: string (nullable = true)\n |-- age: long (nullable = true)\n\n"
     ],
     "output_type": "stream"
    }
   ],
   "source": [
    "\n",
    "print(\"WRITE\")\n",
    "\n",
    "people.write.format(\"com.mongodb.spark.sql.DefaultSource\").mode(\"append\")\\\n",
    "    .option(\"database\", \"people\") \\\n",
    "    .option(\"collection\", \"contacts\") \\\n",
    "    .save()\n",
    "\n",
    "people.printSchema()\n"
   ],
   "metadata": {
    "pycharm": {
     "metadata": false,
     "name": "#%%\n",
     "is_executing": false
    }
   }
  },
  {
   "cell_type": "code",
   "execution_count": 17,
   "outputs": [
    {
     "name": "stdout",
     "text": [
      "READ\n+--------------------+----+-------------+\n|                 _id| age|         name|\n+--------------------+----+-------------+\n|[5cde6e7860462413...|1000|      Gandalf|\n|[5cde6e7860462413...| 158|        Gloin|\n|[5cde6e7860462413...|  82|         Fili|\n|[5cde6e7860462413...|null|       Bombur|\n|[5cde6e7860462413...| 167|          Oin|\n|[5cde6e7860462413...| 178|        Balin|\n|[5cde6e7860462413...|  77|         Kili|\n|[5cde6e7860462413...| 169|       Dwalin|\n|[5cde6e7860462413...|  50|Bilbo Baggins|\n|[5cde6e7860462413...| 195|       Thorin|\n|[5cde6ea960462413...| 169|       Dwalin|\n|[5cde6ea960462413...| 158|        Gloin|\n|[5cde6ea960462413...| 167|          Oin|\n|[5cde6ea960462413...|1000|      Gandalf|\n|[5cde6ea960462413...| 178|        Balin|\n|[5cde6ea960462413...|  77|         Kili|\n|[5cde6ea960462413...|  82|         Fili|\n|[5cde6ea960462413...|null|       Bombur|\n|[5cde6ea960462413...|  50|Bilbo Baggins|\n|[5cde6ea960462413...| 195|       Thorin|\n+--------------------+----+-------------+\n\n"
     ],
     "output_type": "stream"
    }
   ],
   "source": [
    "\n",
    "print(\"READ\")\n",
    "\n",
    "df = spark.read.format(\"com.mongodb.spark.sql.DefaultSource\")\\\n",
    "    .option(\"uri\", \"mongodb://127.0.0.1/people.contacts\")\\\n",
    "    .load()\n",
    "\n",
    "df.show()\n"
   ],
   "metadata": {
    "collapsed": false,
    "pycharm": {
     "name": "#%%\n",
     "is_executing": false
    }
   }
  },
  {
   "cell_type": "code",
   "execution_count": 19,
   "outputs": [
    {
     "name": "stdout",
     "text": [
      "AGGREGATION\n+--------------------+----+-------+\n|                 _id| age|   name|\n+--------------------+----+-------+\n|[5cde6e7860462413...|1000|Gandalf|\n|[5cde6e7860462413...| 158|  Gloin|\n|[5cde6e7860462413...| 167|    Oin|\n|[5cde6e7860462413...| 178|  Balin|\n|[5cde6e7860462413...| 169| Dwalin|\n|[5cde6e7860462413...| 195| Thorin|\n|[5cde6ea960462413...| 169| Dwalin|\n|[5cde6ea960462413...| 158|  Gloin|\n|[5cde6ea960462413...| 167|    Oin|\n|[5cde6ea960462413...|1000|Gandalf|\n|[5cde6ea960462413...| 178|  Balin|\n|[5cde6ea960462413...| 195| Thorin|\n+--------------------+----+-------+\n\n"
     ],
     "output_type": "stream"
    }
   ],
   "source": [
    "\n",
    "print(\"AGGREGATION\")\n",
    "\n",
    "pipeline = \"{'$match': {'age': { '$gte': 150 }}}\"\n",
    "df = spark.read.format(\"com.mongodb.spark.sql.DefaultSource\")\\\n",
    "    .option(\"uri\", \"mongodb://127.0.0.1/people.contacts\")\\\n",
    "    .option(\"pipeline\", pipeline)\\\n",
    "    .load()\n",
    "\n",
    "df.show()\n"
   ],
   "metadata": {
    "pycharm": {
     "metadata": false,
     "name": "#%%\n",
     "is_executing": false
    }
   }
  },
  {
   "cell_type": "code",
   "execution_count": 21,
   "outputs": [
    {
     "name": "stdout",
     "text": [
      "FILTER\n+--------------------+----+-------+\n|                 _id| age|   name|\n+--------------------+----+-------+\n|[5cde6e7860462413...|1000|Gandalf|\n|[5cde6ea960462413...|1000|Gandalf|\n+--------------------+----+-------+\n\n"
     ],
     "output_type": "stream"
    }
   ],
   "source": "\nprint(\"FILTER\")\ndf.filter(df['age'] >= 1000)\\\n    .show()\n",
   "metadata": {
    "pycharm": {
     "metadata": false,
     "name": "#%%\n",
     "is_executing": false
    }
   }
  },
  {
   "cell_type": "code",
   "execution_count": 22,
   "outputs": [
    {
     "name": "stdout",
     "text": [
      "SQL\n",
      "+-------+----+\n|   name| age|\n+-------+----+\n|Gandalf|1000|\n|Gandalf|1000|\n+-------+----+\n\n"
     ],
     "output_type": "stream"
    }
   ],
   "source": "\nprint(\"SQL\")\n\ndf.createOrReplaceTempView(\"temp\")\ndf = spark.sql(\"SELECT name, age FROM temp WHERE name LIKE '%Gandalf%'\")\ndf.show()\n",
   "metadata": {
    "pycharm": {
     "metadata": false,
     "name": "#%%\n",
     "is_executing": false
    }
   }
  },
  {
   "cell_type": "code",
   "execution_count": 6,
   "outputs": [],
   "source": "spark.stop()\n",
   "metadata": {
    "pycharm": {
     "metadata": false,
     "name": "#%%\n",
     "is_executing": false
    }
   }
  }
 ],
 "metadata": {
  "language_info": {
   "codemirror_mode": {
    "name": "ipython",
    "version": 2
   },
   "file_extension": ".py",
   "mimetype": "text/x-python",
   "name": "python",
   "nbconvert_exporter": "python",
   "pygments_lexer": "ipython2",
   "version": "2.7.6"
  },
  "kernelspec": {
   "name": "python3",
   "language": "python",
   "display_name": "Python 3"
  },
  "pycharm": {
   "stem_cell": {
    "cell_type": "raw",
    "source": [],
    "metadata": {
     "collapsed": false
    }
   }
  }
 },
 "nbformat": 4,
 "nbformat_minor": 0
}