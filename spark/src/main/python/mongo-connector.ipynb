{
  "cells": [
    {
      "cell_type": "code",
      "execution_count": 1,
      "metadata": {
        "collapsed": true,
        "pycharm": {
          "is_executing": false
        }
      },
      "outputs": [],
      "source": "\nfrom pyspark import SparkConf\nfrom pyspark.sql import SparkSession\n\nconf \u003d SparkConf()\nconf.set(\"spark.jars.packages\", \"org.mongodb.spark:mongo-spark-connector_2.12:2.4.0\")\nconf.set(\"spark.mongodb.input.uri\", \"mongodb://127.0.0.1/test.coll\")\nconf.set(\"spark.mongodb.output.uri\", \"mongodb://127.0.0.1/test.coll\")\n\nspark \u003d SparkSession.builder \\\n    .appName(\"test-mongo\") \\\n    .master(\u0027local[*]\u0027) \\\n    .config(conf\u003dconf) \\\n    .getOrCreate()\n"
    },
    {
      "cell_type": "code",
      "execution_count": 7,
      "outputs": [
        {
          "name": "stdout",
          "text": [
            "+-------------+----+\n|         name| age|\n+-------------+----+\n|Bilbo Baggins|  50|\n|      Gandalf|1000|\n|       Thorin| 195|\n|        Balin| 178|\n|         Kili|  77|\n|       Dwalin| 169|\n|          Oin| 167|\n|        Gloin| 158|\n|         Fili|  82|\n|       Bombur|null|\n+-------------+----+\n\n"
          ],
          "output_type": "stream"
        }
      ],
      "source": "\npeople \u003d spark.createDataFrame([\n    (\"Bilbo Baggins\",  50), (\"Gandalf\", 1000), (\"Thorin\", 195),\n    (\"Balin\", 178), (\"Kili\", 77), (\"Dwalin\", 169), (\"Oin\", 167),\n    (\"Gloin\", 158), (\"Fili\", 82), (\"Bombur\", None)], [\"name\", \"age\"])\n\npeople.show()\n",
      "metadata": {
        "pycharm": {
          "metadata": false,
          "name": "#%%\n",
          "is_executing": false
        }
      }
    },
    {
      "cell_type": "code",
      "execution_count": 8,
      "outputs": [
        {
          "name": "stdout",
          "text": [
            "WRITE/READ\nroot\n |-- name: string (nullable \u003d true)\n |-- age: long (nullable \u003d true)\n\n+--------------------+----+-------------+\n|                 _id| age|         name|\n+--------------------+----+-------------+\n|[5cc6ac7d78312462...|  82|         Fili|\n|[5cc6ac7d78312462...|null|       Bombur|\n|[5cc6ac7d78312462...|  50|Bilbo Baggins|\n|[5cc6ac7d78312462...| 195|       Thorin|\n|[5cc6ac7d78312462...| 158|        Gloin|\n|[5cc6ac7d78312462...|1000|      Gandalf|\n|[5cc6ac7d78312462...| 167|          Oin|\n|[5cc6ac7d78312462...| 178|        Balin|\n|[5cc6ac7d78312462...|  77|         Kili|\n|[5cc6ac7d78312462...| 169|       Dwalin|\n|[5cc6bc4c78312462...| 167|          Oin|\n|[5cc6bc4c78312462...|1000|      Gandalf|\n|[5cc6bc4c78312462...| 169|       Dwalin|\n|[5cc6bc4c78312462...| 195|       Thorin|\n|[5cc6bc4c78312462...| 178|        Balin|\n|[5cc6bc4c78312462...|  77|         Kili|\n|[5cc6bc4c78312462...|  50|Bilbo Baggins|\n|[5cc6bc4c78312462...|  82|         Fili|\n|[5cc6bc4c78312462...|null|       Bombur|\n|[5cc6bc4c78312462...| 158|        Gloin|\n+--------------------+----+-------------+\n\n"
          ],
          "output_type": "stream"
        }
      ],
      "source": "\nprint(\"WRITE/READ\")\n\npeople.write.format(\"com.mongodb.spark.sql.DefaultSource\").mode(\"append\")\\\n    .option(\"database\", \"people\") \\\n    .option(\"collection\", \"contacts\") \\\n    .save()\n\npeople.printSchema()\n\ndf \u003d spark.read.format(\"com.mongodb.spark.sql.DefaultSource\") \\\n    .load()\n\ndf.show()\n",
      "metadata": {
        "pycharm": {
          "metadata": false,
          "name": "#%%\n",
          "is_executing": false
        }
      }
    },
    {
      "cell_type": "code",
      "execution_count": 9,
      "outputs": [
        {
          "name": "stdout",
          "text": [
            "CHANGE COLLECTION\n+--------------------+----+-------------+\n|                 _id| age|         name|\n+--------------------+----+-------------+\n|[5cc6bc9578312462...|  82|         Fili|\n|[5cc6bc9578312462...|null|       Bombur|\n|[5cc6bc9578312462...| 167|          Oin|\n|[5cc6bc9578312462...|  50|Bilbo Baggins|\n|[5cc6bc9578312462...| 158|        Gloin|\n|[5cc6bc9578312462...| 195|       Thorin|\n|[5cc6bc9578312462...| 178|        Balin|\n|[5cc6bc9578312462...|  77|         Kili|\n|[5cc6bc9578312462...|1000|      Gandalf|\n|[5cc6bc9578312462...| 169|       Dwalin|\n|[5cc6bd1178312462...|1000|      Gandalf|\n|[5cc6bd1178312462...|  50|Bilbo Baggins|\n|[5cc6bd1178312462...| 178|        Balin|\n|[5cc6bd1178312462...|  77|         Kili|\n|[5cc6bd1178312462...| 167|          Oin|\n|[5cc6bd1178312462...| 158|        Gloin|\n|[5cc6bd1178312462...| 169|       Dwalin|\n|[5cc6bd1178312462...| 195|       Thorin|\n|[5cc6bd1178312462...|  82|         Fili|\n|[5cc6bd1178312462...|null|       Bombur|\n+--------------------+----+-------------+\nonly showing top 20 rows\n\n"
          ],
          "output_type": "stream"
        }
      ],
      "source": "\nprint(\"CHANGE COLLECTION TO people\")\n\ndf \u003d spark.read.format(\"com.mongodb.spark.sql.DefaultSource\")\\\n    .option(\"uri\", \"mongodb://127.0.0.1/people.contacts\")\\\n    .load()\n\ndf.show()\n",
      "metadata": {
        "pycharm": {
          "metadata": false,
          "name": "#%%\n",
          "is_executing": false
        }
      }
    },
    {
      "cell_type": "code",
      "execution_count": 3,
      "outputs": [
        {
          "name": "stdout",
          "text": [
            "AGGREGATION\n",
            "+--------------------+----+-------+\n|                 _id| age|   name|\n+--------------------+----+-------+\n|[5cc6ac7d78312462...| 195| Thorin|\n|[5cc6ac7d78312462...| 158|  Gloin|\n|[5cc6ac7d78312462...|1000|Gandalf|\n|[5cc6ac7d78312462...| 167|    Oin|\n|[5cc6ac7d78312462...| 178|  Balin|\n|[5cc6ac7d78312462...| 169| Dwalin|\n|[5cc6bc4c78312462...| 167|    Oin|\n|[5cc6bc4c78312462...|1000|Gandalf|\n|[5cc6bc4c78312462...| 169| Dwalin|\n|[5cc6bc4c78312462...| 195| Thorin|\n|[5cc6bc4c78312462...| 178|  Balin|\n|[5cc6bc4c78312462...| 158|  Gloin|\n+--------------------+----+-------+\n\n"
          ],
          "output_type": "stream"
        }
      ],
      "source": "\nprint(\"AGGREGATION\")\n\npipeline \u003d \"{\u0027$match\u0027: {\u0027age\u0027: { \u0027$gte\u0027: 150 }}}\"\ndf \u003d spark.read.format(\"com.mongodb.spark.sql.DefaultSource\")\\\n    .option(\"pipeline\", pipeline)\\\n    .load()\n\ndf.show()\n",
      "metadata": {
        "pycharm": {
          "metadata": false,
          "name": "#%%\n",
          "is_executing": false
        }
      }
    },
    {
      "cell_type": "code",
      "execution_count": 5,
      "outputs": [
        {
          "name": "stdout",
          "text": [
            "FILTER\n+-------+----+\n|   name| age|\n+-------+----+\n|Gandalf|1000|\n|Gandalf|1000|\n+-------+----+\n\n"
          ],
          "output_type": "stream"
        }
      ],
      "source": "\nprint(\"FILTER\")\ndf.filter(df[\u0027age\u0027] \u003e\u003d 1000)\\\n    .show()\n",
      "metadata": {
        "pycharm": {
          "metadata": false,
          "name": "#%%\n",
          "is_executing": false
        }
      }
    },
    {
      "cell_type": "code",
      "execution_count": 4,
      "outputs": [
        {
          "name": "stdout",
          "text": [
            "SQL\n",
            "+-------+----+\n|   name| age|\n+-------+----+\n|Gandalf|1000|\n|Gandalf|1000|\n+-------+----+\n\n"
          ],
          "output_type": "stream"
        }
      ],
      "source": "\nprint(\"SQL\")\n\ndf.createOrReplaceTempView(\"temp\")\ndf \u003d spark.sql(\"SELECT name, age FROM temp WHERE name LIKE \u0027%Gandalf%\u0027\")\ndf.show()\n",
      "metadata": {
        "pycharm": {
          "metadata": false,
          "name": "#%%\n",
          "is_executing": false
        }
      }
    },
    {
      "cell_type": "code",
      "execution_count": 6,
      "outputs": [],
      "source": "spark.stop()\n",
      "metadata": {
        "pycharm": {
          "metadata": false,
          "name": "#%%\n",
          "is_executing": false
        }
      }
    }
  ],
  "metadata": {
    "language_info": {
      "codemirror_mode": {
        "name": "ipython",
        "version": 2
      },
      "file_extension": ".py",
      "mimetype": "text/x-python",
      "name": "python",
      "nbconvert_exporter": "python",
      "pygments_lexer": "ipython2",
      "version": "2.7.6"
    },
    "kernelspec": {
      "name": "python3",
      "language": "python",
      "display_name": "Python 3"
    }
  },
  "nbformat": 4,
  "nbformat_minor": 0
}