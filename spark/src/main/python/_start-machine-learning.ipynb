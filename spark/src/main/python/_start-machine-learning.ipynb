{
 "cells": [
  {
   "cell_type": "code",
   "execution_count": 16,
   "metadata": {
    "collapsed": true,
    "pycharm": {
     "is_executing": false
    }
   },
   "outputs": [],
   "source": [
    "import os.path\n",
    "\n",
    "from pyspark.ml.clustering import KMeans\n",
    "from pyspark.ml.feature import VectorAssembler\n",
    "from pyspark.ml.regression import LinearRegression\n",
    "from pyspark.sql import SparkSession\n",
    "\n",
    "spark = SparkSession.builder.getOrCreate()\n"
   ]
  },
  {
   "cell_type": "code",
   "execution_count": 17,
   "outputs": [],
   "source": [
    "folder_path = '/Users/sg0218817/Downloads/Ex_Files_Spark_SQL_DataFrames/Exercise Files/Data'\n",
    "df = spark.read.format('json')\\\n",
    "    .load(os.path.join(folder_path, 'utilization'))\n",
    "\n",
    "df.createOrReplaceTempView('utilization')\n"
   ],
   "metadata": {
    "collapsed": false,
    "pycharm": {
     "name": "#%%\n",
     "is_executing": false
    }
   }
  },
  {
   "cell_type": "markdown",
   "source": [
    "### KMeans\n"
   ],
   "metadata": {
    "collapsed": false
   }
  },
  {
   "cell_type": "code",
   "execution_count": 18,
   "outputs": [
    {
     "name": "stdout",
     "text": [
      "+---------------+-------------------+-----------+---------+-------------+----------------+\n|cpu_utilization|         event_date|free_memory|server_id|session_count|        features|\n+---------------+-------------------+-----------+---------+-------------+----------------+\n|           0.57|03/05/2019 08:06:14|       0.51|      100|           47|[0.57,0.51,47.0]|\n|           0.47|03/05/2019 08:11:14|       0.62|      100|           43|[0.47,0.62,43.0]|\n|           0.56|03/05/2019 08:16:14|       0.57|      100|           62|[0.56,0.57,62.0]|\n|           0.57|03/05/2019 08:21:14|       0.56|      100|           50|[0.57,0.56,50.0]|\n|           0.35|03/05/2019 08:26:14|       0.46|      100|           43|[0.35,0.46,43.0]|\n+---------------+-------------------+-----------+---------+-------------+----------------+\nonly showing top 5 rows\n\n"
     ],
     "output_type": "stream"
    },
    {
     "data": {
      "text/plain": "[array([ 0.61918113,  0.38080285, 68.75004716]),\n array([ 0.71174897,  0.28808911, 86.87510507]),\n array([ 0.51439668,  0.48445202, 50.49452021])]"
     },
     "metadata": {},
     "output_type": "execute_result",
     "execution_count": 18
    }
   ],
   "source": [
    "vectorAssembler = VectorAssembler(inputCols=['cpu_utilization', 'free_memory', 'session_count'], outputCol='features')\n",
    "vcluster_df = vectorAssembler.transform(df)\n",
    "vcluster_df.show(5)\n",
    "\n",
    "kmeans = KMeans().setK(3)\\\n",
    "    .setSeed(1)\n",
    "\n",
    "# uses features column\n",
    "kmodel = kmeans.fit(vcluster_df)\n",
    "kmodel.clusterCenters()\n"
   ],
   "metadata": {
    "collapsed": false,
    "pycharm": {
     "name": "#%%\n",
     "is_executing": false
    }
   }
  },
  {
   "cell_type": "markdown",
   "source": [
    "### Linear Regression\n"
   ],
   "metadata": {
    "collapsed": false
   }
  },
  {
   "cell_type": "code",
   "execution_count": 19,
   "outputs": [
    {
     "name": "stdout",
     "text": [
      "+---------------+-------------------+-----------+---------+-------------+--------+\n|cpu_utilization|         event_date|free_memory|server_id|session_count|features|\n+---------------+-------------------+-----------+---------+-------------+--------+\n|           0.57|03/05/2019 08:06:14|       0.51|      100|           47|  [0.57]|\n|           0.47|03/05/2019 08:11:14|       0.62|      100|           43|  [0.47]|\n|           0.56|03/05/2019 08:16:14|       0.57|      100|           62|  [0.56]|\n|           0.57|03/05/2019 08:21:14|       0.56|      100|           50|  [0.57]|\n|           0.35|03/05/2019 08:26:14|       0.46|      100|           43|  [0.35]|\n+---------------+-------------------+-----------+---------+-------------+--------+\nonly showing top 5 rows\n\n",
      "coefficients= [47.023972214607845]\nintercept= 40.41695103556818\nrootMeanSquaredError= 12.837990225931815\n"
     ],
     "output_type": "stream"
    }
   ],
   "source": [
    "vectorAssembler = VectorAssembler(inputCols=['cpu_utilization'], outputCol='features')\n",
    "df_vutil = vectorAssembler.transform(df)\n",
    "df_vutil.show(5)\n",
    "\n",
    "lr = LinearRegression(featuresCol='features', labelCol='session_count')\n",
    "lr_model = lr.fit(df_vutil)\n",
    "\n",
    "print('coefficients=', lr_model.coefficients)\n",
    "print('intercept=', lr_model.intercept)\n",
    "print('rootMeanSquaredError=', lr_model.summary.rootMeanSquaredError)\n"
   ],
   "metadata": {
    "collapsed": false,
    "pycharm": {
     "name": "#%%\n",
     "is_executing": false
    }
   }
  },
  {
   "cell_type": "code",
   "execution_count": null,
   "outputs": [],
   "source": [
    "\n"
   ],
   "metadata": {
    "collapsed": false,
    "pycharm": {
     "name": "#%%\n"
    }
   }
  }
 ],
 "metadata": {
  "language_info": {
   "codemirror_mode": {
    "name": "ipython",
    "version": 2
   },
   "file_extension": ".py",
   "mimetype": "text/x-python",
   "name": "python",
   "nbconvert_exporter": "python",
   "pygments_lexer": "ipython2",
   "version": "2.7.6"
  },
  "kernelspec": {
   "name": "python3",
   "language": "python",
   "display_name": "Python 3"
  },
  "pycharm": {
   "stem_cell": {
    "cell_type": "raw",
    "source": [],
    "metadata": {
     "collapsed": false
    }
   }
  }
 },
 "nbformat": 4,
 "nbformat_minor": 0
}