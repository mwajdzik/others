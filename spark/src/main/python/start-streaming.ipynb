{
 "cells": [
  {
   "cell_type": "code",
   "execution_count": 1,
   "metadata": {
    "collapsed": true,
    "pycharm": {
     "is_executing": false
    }
   },
   "outputs": [
    {
     "data": {
      "text/plain": "<pyspark.sql.session.SparkSession at 0x1157e8dd8>",
      "text/html": "\n            <div>\n                <p><b>SparkSession - in-memory</b></p>\n                \n        <div>\n            <p><b>SparkContext</b></p>\n\n            <p><a href=\"http://172.19.36.12:4040\">Spark UI</a></p>\n\n            <dl>\n              <dt>Version</dt>\n                <dd><code>v2.4.2</code></dd>\n              <dt>Master</dt>\n                <dd><code>local[*]</code></dd>\n              <dt>AppName</dt>\n                <dd><code>pyspark-shell</code></dd>\n            </dl>\n        </div>\n        \n            </div>\n        "
     },
     "metadata": {},
     "output_type": "execute_result",
     "execution_count": 1
    }
   ],
   "source": [
    "from pyspark.sql import SparkSession\n",
    "from pyspark.sql.functions import window,   col\n",
    "\n",
    "# http://localhost:4040\n",
    "spark = SparkSession.builder.getOrCreate()\n",
    "spark.conf.set('spark.sql.shuffle.partitions', '5')\n",
    "spark\n"
   ]
  },
  {
   "cell_type": "code",
   "execution_count": 2,
   "outputs": [
    {
     "name": "stdout",
     "text": [
      "+---------+---------+-----------------------------------+--------+-------------------+---------+----------+--------------+\n|InvoiceNo|StockCode|Description                        |Quantity|InvoiceDate        |UnitPrice|CustomerID|Country       |\n+---------+---------+-----------------------------------+--------+-------------------+---------+----------+--------------+\n|537226   |22811    |SET OF 6 T-LIGHTS CACTI            |6       |2010-12-06 08:34:00|2.95     |15987.0   |United Kingdom|\n|537226   |21713    |CITRONELLA CANDLE FLOWERPOT        |8       |2010-12-06 08:34:00|2.1      |15987.0   |United Kingdom|\n|537226   |22927    |GREEN GIANT GARDEN THERMOMETER     |2       |2010-12-06 08:34:00|5.95     |15987.0   |United Kingdom|\n|537226   |20802    |SMALL GLASS SUNDAE DISH CLEAR      |6       |2010-12-06 08:34:00|1.65     |15987.0   |United Kingdom|\n|537226   |22052    |VINTAGE CARAVAN GIFT WRAP          |25      |2010-12-06 08:34:00|0.42     |15987.0   |United Kingdom|\n|537226   |22705    |WRAP GREEN PEARS                   |25      |2010-12-06 08:34:00|0.42     |15987.0   |United Kingdom|\n|537226   |20781    |GOLD EAR MUFF HEADPHONES           |2       |2010-12-06 08:34:00|5.49     |15987.0   |United Kingdom|\n|537226   |22310    |IVORY KNITTED MUG COSY             |6       |2010-12-06 08:34:00|1.65     |15987.0   |United Kingdom|\n|537226   |22389    |PAPERWEIGHT SAVE THE PLANET        |6       |2010-12-06 08:34:00|2.55     |15987.0   |United Kingdom|\n|537227   |22941    |CHRISTMAS LIGHTS 10 REINDEER       |2       |2010-12-06 08:42:00|8.5      |17677.0   |United Kingdom|\n|537227   |22696    |WICKER WREATH LARGE                |6       |2010-12-06 08:42:00|1.95     |17677.0   |United Kingdom|\n|537227   |22193    |RED DINER WALL CLOCK               |2       |2010-12-06 08:42:00|8.5      |17677.0   |United Kingdom|\n|537227   |21212    |PACK OF 72 RETROSPOT CAKE CASES    |120     |2010-12-06 08:42:00|0.42     |17677.0   |United Kingdom|\n|537227   |21977    |PACK OF 60 PINK PAISLEY CAKE CASES |48      |2010-12-06 08:42:00|0.55     |17677.0   |United Kingdom|\n|537227   |84991    |60 TEATIME FAIRY CAKE CASES        |48      |2010-12-06 08:42:00|0.55     |17677.0   |United Kingdom|\n|537227   |21213    |PACK OF 72 SKULL CAKE CASES        |48      |2010-12-06 08:42:00|0.55     |17677.0   |United Kingdom|\n|537227   |21080    |SET/20 RED RETROSPOT PAPER NAPKINS |12      |2010-12-06 08:42:00|0.85     |17677.0   |United Kingdom|\n|537227   |22632    |HAND WARMER RED RETROSPOT          |48      |2010-12-06 08:42:00|2.1      |17677.0   |United Kingdom|\n|537227   |22315    |200 RED + WHITE BENDY STRAWS       |12      |2010-12-06 08:42:00|1.25     |17677.0   |United Kingdom|\n|537227   |21232    |STRAWBERRY CERAMIC TRINKET BOX     |12      |2010-12-06 08:42:00|1.25     |17677.0   |United Kingdom|\n+---------+---------+-----------------------------------+--------+-------------------+---------+----------+--------------+\nonly showing top 20 rows\n\nroot\n |-- InvoiceNo: string (nullable = true)\n |-- StockCode: string (nullable = true)\n |-- Description: string (nullable = true)\n |-- Quantity: integer (nullable = true)\n |-- InvoiceDate: timestamp (nullable = true)\n |-- UnitPrice: double (nullable = true)\n |-- CustomerID: double (nullable = true)\n |-- Country: string (nullable = true)\n\n"
     ],
     "output_type": "stream"
    }
   ],
   "source": [
    "df = spark.read\\\n",
    "    .format('csv')\\\n",
    "    .option('header', 'true')\\\n",
    "    .option('inferSchema', 'true')\\\n",
    "    .load('../data/retail-data/*.csv')\n",
    "\n",
    "df.createOrReplaceTempView('retail_data')\n",
    "df_schema = df.schema\n",
    "\n",
    "df.show(truncate=False)\n",
    "df.printSchema()\n"
   ],
   "metadata": {
    "pycharm": {
     "metadata": false,
     "name": "#%%\n",
     "is_executing": false
    }
   }
  },
  {
   "cell_type": "code",
   "execution_count": 3,
   "outputs": [
    {
     "name": "stdout",
     "text": [
      "+----------+------------------------------------------+------------------+\n|CustomerID|window                                    |sum(total_cost)   |\n+----------+------------------------------------------+------------------+\n|null      |[2010-12-06 01:00:00, 2010-12-07 01:00:00]|23395.099999999904|\n|13652.0   |[2010-12-06 01:00:00, 2010-12-07 01:00:00]|308.79999999999995|\n|12586.0   |[2010-12-06 01:00:00, 2010-12-07 01:00:00]|-17.0             |\n|17428.0   |[2010-12-06 01:00:00, 2010-12-07 01:00:00]|353.00000000000006|\n|15899.0   |[2010-12-06 01:00:00, 2010-12-07 01:00:00]|56.25             |\n|16210.0   |[2010-12-06 01:00:00, 2010-12-07 01:00:00]|2263.7999999999993|\n|17227.0   |[2010-12-06 01:00:00, 2010-12-07 01:00:00]|142.25            |\n|12474.0   |[2010-12-06 01:00:00, 2010-12-07 01:00:00]|-34.0             |\n|14825.0   |[2010-12-06 01:00:00, 2010-12-07 01:00:00]|184.10000000000002|\n|15078.0   |[2010-12-06 01:00:00, 2010-12-07 01:00:00]|475.1499999999999 |\n|16710.0   |[2010-12-06 01:00:00, 2010-12-07 01:00:00]|375.47            |\n|17757.0   |[2010-12-06 01:00:00, 2010-12-07 01:00:00]|149.00000000000003|\n|17223.0   |[2010-12-06 01:00:00, 2010-12-07 01:00:00]|292.84            |\n|16817.0   |[2010-12-06 01:00:00, 2010-12-07 01:00:00]|244.2             |\n|13030.0   |[2010-12-06 01:00:00, 2010-12-07 01:00:00]|427.74            |\n|16138.0   |[2010-12-06 01:00:00, 2010-12-07 01:00:00]|-7.95             |\n|13481.0   |[2010-12-06 01:00:00, 2010-12-07 01:00:00]|-4.25             |\n|17218.0   |[2010-12-06 01:00:00, 2010-12-07 01:00:00]|292.5399999999999 |\n|14215.0   |[2010-12-06 01:00:00, 2010-12-07 01:00:00]|166.0             |\n|16782.0   |[2010-12-06 01:00:00, 2010-12-07 01:00:00]|-5.95             |\n+----------+------------------------------------------+------------------+\nonly showing top 20 rows\n\n"
     ],
     "output_type": "stream"
    }
   ],
   "source": [
    "df2 = df.selectExpr('CustomerID', '(UnitPrice * Quantity) AS total_cost', 'InvoiceDate') \\\n",
    "    .groupBy(col('CustomerID'), window(col('InvoiceDate'), '1 day'))\\\n",
    "    .sum('total_cost')\n",
    "\n",
    "df2.show(truncate=False)\n"
   ],
   "metadata": {
    "collapsed": false,
    "pycharm": {
     "name": "#%%\n",
     "is_executing": false
    }
   }
  },
  {
   "cell_type": "markdown",
   "source": [
    "## Streaming\n"
   ],
   "metadata": {
    "collapsed": false
   }
  },
  {
   "cell_type": "code",
   "execution_count": 4,
   "outputs": [
    {
     "data": {
      "text/plain": "True"
     },
     "metadata": {},
     "output_type": "execute_result",
     "execution_count": 4
    }
   ],
   "source": [
    "streaming_df = spark.readStream\\\n",
    "    .schema(df_schema)\\\n",
    "    .format('csv')\\\n",
    "    .option('header', 'true')\\\n",
    "    .option('maxFilesPerTrigger', 1)\\\n",
    "    .load('../data/retail-data/*.csv')\n",
    "\n",
    "streaming_df.isStreaming\n"
   ],
   "metadata": {
    "collapsed": false,
    "pycharm": {
     "name": "#%%\n",
     "is_executing": false
    }
   }
  },
  {
   "cell_type": "code",
   "execution_count": 5,
   "outputs": [],
   "source": [
    "purchase_by_customer_per_hour = streaming_df \\\n",
    "    .selectExpr('CustomerID', '(UnitPrice * Quantity) AS total_cost', 'InvoiceDate') \\\n",
    "    .groupBy(col('CustomerID'), window(col('InvoiceDate'), '1 hour')) \\\n",
    "    .sum('total_cost')\n"
   ],
   "metadata": {
    "collapsed": false,
    "pycharm": {
     "name": "#%%\n",
     "is_executing": false
    }
   }
  },
  {
   "cell_type": "markdown",
   "source": [
    "The action will output to an in-memory table that will update after each trigger.\n"
   ],
   "metadata": {
    "collapsed": false
   }
  },
  {
   "cell_type": "code",
   "execution_count": 6,
   "outputs": [],
   "source": [
    "sq = purchase_by_customer_per_hour.writeStream \\\n",
    "    .format('memory') \\\n",
    "    .queryName('customer_purchases') \\\n",
    "    .outputMode('complete') \\\n",
    "    .start()\n"
   ],
   "metadata": {
    "collapsed": false,
    "pycharm": {
     "name": "#%%\n",
     "is_executing": false
    }
   }
  },
  {
   "cell_type": "code",
   "execution_count": 13,
   "outputs": [
    {
     "data": {
      "text/plain": "{'id': '08ac292a-4221-4e20-a125-c70ae8064887',\n 'runId': '94d6a831-35ea-49ca-a17d-c46091ab99cb',\n 'name': 'customer_purchases',\n 'timestamp': '2019-07-21T13:28:09.232Z',\n 'batchId': 12,\n 'numInputRows': 0,\n 'inputRowsPerSecond': 0.0,\n 'processedRowsPerSecond': 0.0,\n 'durationMs': {'getOffset': 4, 'triggerExecution': 4},\n 'stateOperators': [{'numRowsTotal': 1127,\n   'numRowsUpdated': 0,\n   'memoryUsedBytes': 288842,\n   'customMetrics': {'loadedMapCacheHitCount': 110,\n    'loadedMapCacheMissCount': 0,\n    'stateOnCurrentVersionSizeBytes': 242810}}],\n 'sources': [{'description': 'FileStreamSource[file:/Users/sg0218817/Private/IT/others/spark/src/main/data/retail-data/*.csv]',\n   'startOffset': {'logOffset': 11},\n   'endOffset': {'logOffset': 11},\n   'numInputRows': 0,\n   'inputRowsPerSecond': 0.0,\n   'processedRowsPerSecond': 0.0}],\n 'sink': {'description': 'MemorySink'}}"
     },
     "metadata": {},
     "output_type": "execute_result",
     "execution_count": 13
    }
   ],
   "source": [
    "sq.lastProgress\n"
   ],
   "metadata": {
    "collapsed": false,
    "pycharm": {
     "name": "#%%\n",
     "is_executing": false
    }
   }
  },
  {
   "cell_type": "code",
   "execution_count": null,
   "outputs": [],
   "source": [
    "spark.sql('SELECT * FROM customer_purchases ORDER BY `sum(total_cost)` DESC') \\\n",
    "    .show(truncate=False)\n"
   ],
   "metadata": {
    "collapsed": false,
    "pycharm": {
     "name": "#%%\n"
    }
   }
  },
  {
   "cell_type": "code",
   "execution_count": 11,
   "outputs": [
    {
     "name": "stdout",
     "text": [
      "+----------+------------------------------------------+------------------+\n|CustomerID|window                                    |sum(total_cost)   |\n+----------+------------------------------------------+------------------+\n|18102.0   |[2010-12-07 16:00:00, 2010-12-07 17:00:00]|25920.37          |\n|null      |[2010-12-03 11:00:00, 2010-12-03 12:00:00]|12187.780000000002|\n|null      |[2010-12-03 14:00:00, 2010-12-03 15:00:00]|10661.690000000004|\n|15061.0   |[2010-12-02 15:00:00, 2010-12-02 16:00:00]|9407.339999999998 |\n|null      |[2010-12-06 16:00:00, 2010-12-06 17:00:00]|8223.399999999996 |\n|null      |[2010-12-06 10:00:00, 2010-12-06 11:00:00]|7818.5800000000045|\n|null      |[2010-12-06 09:00:00, 2010-12-06 10:00:00]|7338.400000000006 |\n|null      |[2010-12-01 17:00:00, 2010-12-01 18:00:00]|6953.740000000007 |\n|13777.0   |[2010-12-01 16:00:00, 2010-12-01 17:00:00]|6585.16           |\n|null      |[2010-12-01 14:00:00, 2010-12-01 15:00:00]|5623.860000000006 |\n|null      |[2010-12-07 18:00:00, 2010-12-07 19:00:00]|5058.040000000007 |\n|16029.0   |[2010-12-01 09:00:00, 2010-12-01 10:00:00]|3702.12           |\n|17381.0   |[2010-12-06 09:00:00, 2010-12-06 10:00:00]|2567.64           |\n|16210.0   |[2010-12-01 12:00:00, 2010-12-01 13:00:00]|2474.7399999999993|\n|13089.0   |[2010-12-06 13:00:00, 2010-12-06 14:00:00]|2415.0400000000004|\n|13081.0   |[2010-12-03 17:00:00, 2010-12-03 18:00:00]|2366.78           |\n|16210.0   |[2010-12-06 11:00:00, 2010-12-06 12:00:00]|2263.7999999999993|\n|17450.0   |[2010-12-07 09:00:00, 2010-12-07 10:00:00]|2028.84           |\n|15061.0   |[2010-12-07 13:00:00, 2010-12-07 14:00:00]|2022.16           |\n|16754.0   |[2010-12-02 17:00:00, 2010-12-02 18:00:00]|2002.4            |\n+----------+------------------------------------------+------------------+\nonly showing top 20 rows\n\n"
     ],
     "output_type": "stream"
    }
   ],
   "source": [
    "spark.sql('SELECT * FROM customer_purchases ORDER BY `sum(total_cost)` DESC') \\\n",
    "    .show(truncate=False)\n"
   ],
   "metadata": {
    "collapsed": false,
    "pycharm": {
     "name": "#%%\n",
     "is_executing": false
    }
   }
  },
  {
   "cell_type": "markdown",
   "source": [
    "The action will output to the console.\n"
   ],
   "metadata": {
    "collapsed": false
   }
  },
  {
   "cell_type": "code",
   "execution_count": 8,
   "outputs": [
    {
     "data": {
      "text/plain": "<pyspark.sql.streaming.StreamingQuery at 0x11b877438>"
     },
     "metadata": {},
     "output_type": "execute_result",
     "execution_count": 8
    }
   ],
   "source": [
    "purchase_by_customer_per_hour.writeStream \\\n",
    "    .format('console') \\\n",
    "    .queryName('customer_purchases_console') \\\n",
    "    .outputMode('complete') \\\n",
    "    .start()\n"
   ],
   "metadata": {
    "collapsed": false,
    "pycharm": {
     "name": "#%%\n",
     "is_executing": false
    }
   }
  }
 ],
 "metadata": {
  "language_info": {
   "codemirror_mode": {
    "name": "ipython",
    "version": 2
   },
   "file_extension": ".py",
   "mimetype": "text/x-python",
   "name": "python",
   "nbconvert_exporter": "python",
   "pygments_lexer": "ipython2",
   "version": "2.7.6"
  },
  "kernelspec": {
   "name": "pycharm-9b5e08a5",
   "language": "python",
   "display_name": "PyCharm (spark)"
  },
  "pycharm": {
   "stem_cell": {
    "cell_type": "raw",
    "source": [],
    "metadata": {
     "collapsed": false
    }
   }
  }
 },
 "nbformat": 4,
 "nbformat_minor": 0
}