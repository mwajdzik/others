{
 "cells": [
  {
   "cell_type": "code",
   "execution_count": 6,
   "metadata": {
    "collapsed": true,
    "pycharm": {
     "is_executing": false
    }
   },
   "outputs": [],
   "source": [
    "from pyspark import SQLContext\n",
    "from pyspark.sql import SparkSession\n",
    "\n",
    "spark = SparkSession.builder.getOrCreate()\n",
    "sc = spark.sparkContext\n",
    "sqlContext = SQLContext(sc)"
   ]
  },
  {
   "cell_type": "code",
   "execution_count": 4,
   "outputs": [
    {
     "name": "stdout",
     "text": [
      "+---+----+----+------+----+\n| id|type|cost|  date|ship|\n+---+----+----+------+----+\n|  0|   A| 223|201603|PORT|\n|  0|   A|  22|201602|PORT|\n|  0|   A| 422|201601|DOCK|\n|  1|   B|3213|201602|DOCK|\n|  1|   B|3213|201601|PORT|\n|  2|   C|2321|201601|DOCK|\n+---+----+----+------+----+\n\n"
     ],
     "output_type": "stream"
    }
   ],
   "source": [
    "rdd = sc.parallelize([\n",
    "        (0, \"A\", 223,\"201603\", \"PORT\"), \n",
    "        (0, \"A\", 22,\"201602\", \"PORT\"), \n",
    "        (0, \"A\", 422,\"201601\", \"DOCK\"), \n",
    "        (1,\"B\", 3213,\"201602\", \"DOCK\"), \n",
    "        (1,\"B\", 3213,\"201601\", \"PORT\"), \n",
    "        (2,\"C\", 2321,\"201601\", \"DOCK\")\n",
    "    ])\n",
    "\n",
    "df_data = sqlContext.createDataFrame(rdd, [\"id\",\"type\", \"cost\", \"date\", \"ship\"])\n",
    "df_data.show()"
   ],
   "metadata": {
    "collapsed": false,
    "pycharm": {
     "name": "#%%\n",
     "is_executing": false
    }
   }
  },
  {
   "cell_type": "code",
   "execution_count": 5,
   "outputs": [
    {
     "name": "stdout",
     "text": [
      "+---+----+------+------+------+\n| id|type|201601|201602|201603|\n+---+----+------+------+------+\n|  1|   B|3213.0|3213.0|  null|\n|  2|   C|2321.0|  null|  null|\n|  0|   A| 422.0|  22.0| 223.0|\n+---+----+------+------+------+\n\n"
     ],
     "output_type": "stream"
    }
   ],
   "source": [
    "df_data.groupby(df_data.id, df_data.type)\\\n",
    "    .pivot(\"date\")\\\n",
    "    .avg(\"cost\")\\\n",
    "    .show()\n"
   ],
   "metadata": {
    "collapsed": false,
    "pycharm": {
     "name": "#%%\n",
     "is_executing": false
    }
   }
  }
 ],
 "metadata": {
  "language_info": {
   "codemirror_mode": {
    "name": "ipython",
    "version": 2
   },
   "file_extension": ".py",
   "mimetype": "text/x-python",
   "name": "python",
   "nbconvert_exporter": "python",
   "pygments_lexer": "ipython2",
   "version": "2.7.6"
  },
  "kernelspec": {
   "name": "python3",
   "language": "python",
   "display_name": "Python 3"
  },
  "pycharm": {
   "stem_cell": {
    "cell_type": "raw",
    "source": [],
    "metadata": {
     "collapsed": false
    }
   }
  }
 },
 "nbformat": 4,
 "nbformat_minor": 0
}