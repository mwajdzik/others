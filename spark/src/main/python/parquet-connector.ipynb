{
 "cells": [
  {
   "cell_type": "code",
   "execution_count": 1,
   "metadata": {
    "collapsed": true,
    "pycharm": {
     "is_executing": false
    }
   },
   "outputs": [
    {
     "name": "stdout",
     "text": [
      "Version: 2.4.2\n"
     ],
     "output_type": "stream"
    }
   ],
   "source": [
    "\n",
    "from pyspark import SparkConf\n",
    "from pyspark.sql import SQLContext\n",
    "from pyspark.sql import SparkSession\n",
    "from pyspark.sql.functions import *\n",
    "\n",
    "conf = SparkConf()\n",
    "\n",
    "spark = SparkSession.builder \\\n",
    "    .appName(\"test-parquet\") \\\n",
    "    .master('local[*]') \\\n",
    "    .config(conf=conf) \\\n",
    "    .getOrCreate()\n",
    "\n",
    "sqlContext = SQLContext(spark.sparkContext)\n",
    "print('Version: ' + str(spark.version))\n"
   ]
  },
  {
   "cell_type": "code",
   "execution_count": 2,
   "outputs": [
    {
     "name": "stdout",
     "text": [
      "root\n |-- carrier: string (nullable = true)\n |-- departureDateDOW: string (nullable = true)\n |-- timestamp: timestamp (nullable = true)\n |-- flightId: string (nullable = true)\n |-- hoursToDeparture: integer (nullable = true)\n |-- isCancelled: boolean (nullable = true)\n |-- marketingCarrier: string (nullable = true)\n |-- marketingFlightNumber: integer (nullable = true)\n |-- number: integer (nullable = true)\n |-- numberDepartureDate: timestamp (nullable = true)\n |-- operatingCarrier: string (nullable = true)\n |-- optGroupDate: timestamp (nullable = true)\n |-- flightKey: string (nullable = true)\n |-- my_date: date (nullable = true)\n\n"
     ],
     "output_type": "stream"
    }
   ],
   "source": [
    "\n",
    "df = sqlContext.read.parquet('/Users/sg0218817/Downloads/*.parquet')\n",
    "df = df.withColumn('my_date', to_date(col(\"numberDepartureDate\"), format='dd-MM-yyyy'))\n",
    "df.registerTempTable(\"archive\")\n",
    "\n",
    "df.printSchema()\n"
   ],
   "metadata": {
    "pycharm": {
     "metadata": false,
     "name": "#%%\n",
     "is_executing": false
    }
   }
  },
  {
   "cell_type": "code",
   "execution_count": 3,
   "outputs": [
    {
     "name": "stdout",
     "text": [
      "column names: ['carrier', 'departureDateDOW', 'timestamp', 'flightId', 'hoursToDeparture', 'isCancelled', 'marketingCarrier', 'marketingFlightNumber', 'number', 'numberDepartureDate', 'operatingCarrier', 'optGroupDate', 'flightKey', 'my_date']\n",
      "# of records: 24749\nthe statistical summary of the given column:\n",
      "+-------+-------------------+\n|summary|           flightId|\n+-------+-------------------+\n|  count|              24749|\n|   mean|               null|\n| stddev|               null|\n|    min|SU.1001[2018-02-05]|\n|    max|  XX.77[2018-06-30]|\n+-------+-------------------+\n\n",
      "+-------+\n|carrier|\n+-------+\n|     SU|\n|     XX|\n+-------+\n\n",
      "+-------+\n|carrier|\n+-------+\n|     SU|\n|     XX|\n+-------+\n\n",
      "+-------+\n|carrier|\n+-------+\n|     SU|\n|     XX|\n+-------+\n\nselecting multiple columns:\n",
      "+-------------------+-------------------+----------+\n|           flightId|numberDepartureDate|   my_date|\n+-------------------+-------------------+----------+\n|SU.1001[2018-02-05]|2018-02-05 01:00:00|2018-02-05|\n|SU.1001[2018-02-05]|2018-02-05 01:00:00|2018-02-05|\n|SU.1001[2018-02-05]|2018-02-05 01:00:00|2018-02-05|\n|SU.1001[2018-02-05]|2018-02-05 01:00:00|2018-02-05|\n|SU.1001[2018-02-05]|2018-02-05 01:00:00|2018-02-05|\n|SU.1001[2018-02-05]|2018-02-05 01:00:00|2018-02-05|\n|SU.1001[2018-02-05]|2018-02-05 01:00:00|2018-02-05|\n|SU.1001[2018-02-05]|2018-02-05 01:00:00|2018-02-05|\n|SU.1001[2018-02-05]|2018-02-05 01:00:00|2018-02-05|\n|SU.1001[2018-02-05]|2018-02-05 01:00:00|2018-02-05|\n+-------------------+-------------------+----------+\nonly showing top 10 rows\n\n",
      "+-------+\n|carrier|\n+-------+\n|     SU|\n|     XX|\n+-------+\n\nfiltering data:\n",
      "+-------+----------------+-------------------+-------------------+----------------+-----------+----------------+---------------------+------+-------------------+----------------+------------+--------------------+----------+\n|carrier|departureDateDOW|          timestamp|           flightId|hoursToDeparture|isCancelled|marketingCarrier|marketingFlightNumber|number|numberDepartureDate|operatingCarrier|optGroupDate|           flightKey|   my_date|\n+-------+----------------+-------------------+-------------------+----------------+-----------+----------------+---------------------+------+-------------------+----------------+------------+--------------------+----------+\n|     SU|            null|2018-01-02 01:00:00|SU.1007[2018-11-13]|            null|       null|            null|                 null|  1007|2018-11-13 01:00:00|            null|        null|SU.1007[2018-11-1...|2018-11-13|\n|     SU|            null|2018-01-02 01:00:00|SU.1007[2018-11-13]|            null|       null|            null|                 null|  1007|2018-11-13 01:00:00|            null|        null|SU.1007[2018-11-1...|2018-11-13|\n|     SU|            null|2018-01-02 01:00:00|SU.1007[2018-11-13]|            null|       null|            null|                 null|  1007|2018-11-13 01:00:00|            null|        null|SU.1007[2018-11-1...|2018-11-13|\n|     SU|            null|2018-01-02 01:00:00|SU.1007[2018-11-13]|            null|       null|            null|                 null|  1007|2018-11-13 01:00:00|            null|        null|SU.1007[2018-11-1...|2018-11-13|\n|     SU|            null|2018-01-02 01:00:00|SU.1007[2018-11-13]|            null|       null|            null|                 null|  1007|2018-11-13 01:00:00|            null|        null|SU.1007[2018-11-1...|2018-11-13|\n|     SU|            null|2018-01-02 01:00:00|SU.1007[2018-11-13]|            null|       null|            null|                 null|  1007|2018-11-13 01:00:00|            null|        null|SU.1007[2018-11-1...|2018-11-13|\n|     SU|            null|2018-01-02 01:00:00|SU.1007[2018-11-13]|            null|       null|            null|                 null|  1007|2018-11-13 01:00:00|            null|        null|SU.1007[2018-11-1...|2018-11-13|\n|     SU|            null|2018-01-02 01:00:00|SU.1007[2018-11-13]|            null|       null|            null|                 null|  1007|2018-11-13 01:00:00|            null|        null|SU.1007[2018-11-1...|2018-11-13|\n|     SU|            null|2018-01-02 01:00:00|SU.1007[2018-11-13]|            null|       null|            null|                 null|  1007|2018-11-13 01:00:00|            null|        null|SU.1007[2018-11-1...|2018-11-13|\n|     SU|            null|2018-01-02 01:00:00|SU.1007[2018-11-13]|            null|       null|            null|                 null|  1007|2018-11-13 01:00:00|            null|        null|SU.1007[2018-11-1...|2018-11-13|\n|     SU|            null|2018-01-02 01:00:00|SU.1007[2018-11-13]|            null|       null|            null|                 null|  1007|2018-11-13 01:00:00|            null|        null|SU.1007[2018-11-1...|2018-11-13|\n|     SU|            null|2018-01-02 01:00:00|SU.1007[2018-11-13]|            null|       null|            null|                 null|  1007|2018-11-13 01:00:00|            null|        null|SU.1007[2018-11-1...|2018-11-13|\n|     SU|            null|2018-01-02 01:00:00|SU.1007[2018-11-13]|            null|       null|            null|                 null|  1007|2018-11-13 01:00:00|            null|        null|SU.1007[2018-11-1...|2018-11-13|\n|     SU|            null|2018-01-02 01:00:00|SU.1007[2018-11-13]|            null|       null|            null|                 null|  1007|2018-11-13 01:00:00|            null|        null|SU.1007[2018-11-1...|2018-11-13|\n|     SU|            null|2018-01-02 01:00:00|SU.1007[2018-11-13]|            null|       null|            null|                 null|  1007|2018-11-13 01:00:00|            null|        null|SU.1007[2018-11-1...|2018-11-13|\n|     SU|            null|2018-01-02 01:00:00|SU.1007[2018-11-13]|            null|       null|            null|                 null|  1007|2018-11-13 01:00:00|            null|        null|SU.1007[2018-11-1...|2018-11-13|\n|     SU|            null|2018-01-02 01:00:00|SU.1007[2018-11-13]|            null|       null|            null|                 null|  1007|2018-11-13 01:00:00|            null|        null|SU.1007[2018-11-1...|2018-11-13|\n|     SU|            null|2018-01-02 01:00:00|SU.1007[2018-11-13]|            null|       null|            null|                 null|  1007|2018-11-13 01:00:00|            null|        null|SU.1007[2018-11-1...|2018-11-13|\n|     SU|            null|2018-01-02 01:00:00|SU.1007[2018-11-13]|            null|       null|            null|                 null|  1007|2018-11-13 01:00:00|            null|        null|SU.1007[2018-11-1...|2018-11-13|\n|     SU|            null|2018-01-02 01:00:00|SU.1007[2018-11-13]|            null|       null|            null|                 null|  1007|2018-11-13 01:00:00|            null|        null|SU.1007[2018-11-1...|2018-11-13|\n+-------+----------------+-------------------+-------------------+----------------+-----------+----------------+---------------------+------+-------------------+----------------+------------+--------------------+----------+\nonly showing top 20 rows\n\n",
      "+-------+----------------+-------------------+-------------------+----------------+-----------+----------------+---------------------+------+-------------------+----------------+------------+--------------------+----------+\n|carrier|departureDateDOW|          timestamp|           flightId|hoursToDeparture|isCancelled|marketingCarrier|marketingFlightNumber|number|numberDepartureDate|operatingCarrier|optGroupDate|           flightKey|   my_date|\n+-------+----------------+-------------------+-------------------+----------------+-----------+----------------+---------------------+------+-------------------+----------------+------------+--------------------+----------+\n|     SU|            null|2018-01-02 01:00:00|SU.1007[2018-11-13]|            null|       null|            null|                 null|  1007|2018-11-13 01:00:00|            null|        null|SU.1007[2018-11-1...|2018-11-13|\n|     SU|            null|2018-01-02 01:00:00|SU.1007[2018-11-13]|            null|       null|            null|                 null|  1007|2018-11-13 01:00:00|            null|        null|SU.1007[2018-11-1...|2018-11-13|\n|     SU|            null|2018-01-02 01:00:00|SU.1007[2018-11-13]|            null|       null|            null|                 null|  1007|2018-11-13 01:00:00|            null|        null|SU.1007[2018-11-1...|2018-11-13|\n|     SU|            null|2018-01-02 01:00:00|SU.1007[2018-11-13]|            null|       null|            null|                 null|  1007|2018-11-13 01:00:00|            null|        null|SU.1007[2018-11-1...|2018-11-13|\n|     SU|            null|2018-01-02 01:00:00|SU.1007[2018-11-13]|            null|       null|            null|                 null|  1007|2018-11-13 01:00:00|            null|        null|SU.1007[2018-11-1...|2018-11-13|\n|     SU|            null|2018-01-02 01:00:00|SU.1007[2018-11-13]|            null|       null|            null|                 null|  1007|2018-11-13 01:00:00|            null|        null|SU.1007[2018-11-1...|2018-11-13|\n|     SU|            null|2018-01-02 01:00:00|SU.1007[2018-11-13]|            null|       null|            null|                 null|  1007|2018-11-13 01:00:00|            null|        null|SU.1007[2018-11-1...|2018-11-13|\n|     SU|            null|2018-01-02 01:00:00|SU.1007[2018-11-13]|            null|       null|            null|                 null|  1007|2018-11-13 01:00:00|            null|        null|SU.1007[2018-11-1...|2018-11-13|\n|     SU|            null|2018-01-02 01:00:00|SU.1007[2018-11-13]|            null|       null|            null|                 null|  1007|2018-11-13 01:00:00|            null|        null|SU.1007[2018-11-1...|2018-11-13|\n|     SU|            null|2018-01-02 01:00:00|SU.1007[2018-11-13]|            null|       null|            null|                 null|  1007|2018-11-13 01:00:00|            null|        null|SU.1007[2018-11-1...|2018-11-13|\n|     SU|            null|2018-01-02 01:00:00|SU.1007[2018-11-13]|            null|       null|            null|                 null|  1007|2018-11-13 01:00:00|            null|        null|SU.1007[2018-11-1...|2018-11-13|\n|     SU|            null|2018-01-02 01:00:00|SU.1007[2018-11-13]|            null|       null|            null|                 null|  1007|2018-11-13 01:00:00|            null|        null|SU.1007[2018-11-1...|2018-11-13|\n|     SU|            null|2018-01-02 01:00:00|SU.1007[2018-11-13]|            null|       null|            null|                 null|  1007|2018-11-13 01:00:00|            null|        null|SU.1007[2018-11-1...|2018-11-13|\n|     SU|            null|2018-01-02 01:00:00|SU.1007[2018-11-13]|            null|       null|            null|                 null|  1007|2018-11-13 01:00:00|            null|        null|SU.1007[2018-11-1...|2018-11-13|\n|     SU|            null|2018-01-02 01:00:00|SU.1007[2018-11-13]|            null|       null|            null|                 null|  1007|2018-11-13 01:00:00|            null|        null|SU.1007[2018-11-1...|2018-11-13|\n|     SU|            null|2018-01-02 01:00:00|SU.1007[2018-11-13]|            null|       null|            null|                 null|  1007|2018-11-13 01:00:00|            null|        null|SU.1007[2018-11-1...|2018-11-13|\n|     SU|            null|2018-01-02 01:00:00|SU.1007[2018-11-13]|            null|       null|            null|                 null|  1007|2018-11-13 01:00:00|            null|        null|SU.1007[2018-11-1...|2018-11-13|\n|     SU|            null|2018-01-02 01:00:00|SU.1007[2018-11-13]|            null|       null|            null|                 null|  1007|2018-11-13 01:00:00|            null|        null|SU.1007[2018-11-1...|2018-11-13|\n|     SU|            null|2018-01-02 01:00:00|SU.1007[2018-11-13]|            null|       null|            null|                 null|  1007|2018-11-13 01:00:00|            null|        null|SU.1007[2018-11-1...|2018-11-13|\n|     SU|            null|2018-01-02 01:00:00|SU.1007[2018-11-13]|            null|       null|            null|                 null|  1007|2018-11-13 01:00:00|            null|        null|SU.1007[2018-11-1...|2018-11-13|\n+-------+----------------+-------------------+-------------------+----------------+-----------+----------------+---------------------+------+-------------------+----------------+------------+--------------------+----------+\nonly showing top 20 rows\n\n",
      "+-------------------+-----+\n|numberDepartureDate|count|\n+-------------------+-----+\n|2018-01-29 01:00:00|  421|\n|2018-01-30 01:00:00|  206|\n|2018-01-31 01:00:00|  360|\n|2018-02-01 01:00:00|  269|\n|2018-02-02 01:00:00|  314|\n|2018-02-03 01:00:00|  233|\n|2018-02-04 01:00:00|  338|\n|2018-02-05 01:00:00|  424|\n|2018-02-06 01:00:00|  188|\n|2018-02-07 01:00:00|  268|\n|2018-02-08 01:00:00|  228|\n|2018-02-09 01:00:00|  263|\n|2018-02-10 01:00:00|  244|\n|2018-02-11 01:00:00|  244|\n|2018-02-12 01:00:00|  185|\n|2018-02-13 01:00:00|  261|\n|2018-02-14 01:00:00|  197|\n|2018-02-15 01:00:00|  242|\n|2018-02-16 01:00:00|  242|\n|2018-02-17 01:00:00|  270|\n+-------------------+-----+\nonly showing top 20 rows\n\n"
     ],
     "output_type": "stream"
    }
   ],
   "source": [
    "\n",
    "print('column names: ' + str(df.columns))\n",
    "print('# of records: ' + str(df.count()))\n",
    "\n",
    "print('the statistical summary of the given column:')\n",
    "df.describe('flightId').show()\n",
    "\n",
    "df.select('carrier').distinct().show()\n",
    "df.select(df.carrier).distinct().show()\n",
    "df.select(col('carrier')).distinct().show()\n",
    "\n",
    "print('selecting multiple columns:')\n",
    "df.select('flightId', 'numberDepartureDate', 'my_date')\\\n",
    "    .show(10)\n",
    "\n",
    "df.select('carrier')\\\n",
    "    .distinct()\\\n",
    "    .show()\n",
    "\n",
    "print('filtering data:')\n",
    "df.filter(df.flightId == 'SU.1007[2018-11-13]')\\\n",
    "    .show()\n",
    "\n",
    "df.filter((df.flightId == 'SU.1007[2018-11-13]') & (df.carrier == 'SU'))\\\n",
    "    .show()\n",
    "\n",
    "df.groupby('numberDepartureDate')\\\n",
    "    .count()\\\n",
    "    .orderBy(df.numberDepartureDate)\\\n",
    "    .show()\n"
   ],
   "metadata": {
    "collapsed": false,
    "pycharm": {
     "name": "#%%\n",
     "is_executing": false
    }
   }
  },
  {
   "cell_type": "code",
   "execution_count": 4,
   "outputs": [
    {
     "name": "stdout",
     "text": [
      "+-------+----------------+-------------------+-------------------+----------------+-----------+----------------+---------------------+------+-------------------+----------------+------------+--------------------+----------+\n|carrier|departureDateDOW|          timestamp|           flightId|hoursToDeparture|isCancelled|marketingCarrier|marketingFlightNumber|number|numberDepartureDate|operatingCarrier|optGroupDate|           flightKey|   my_date|\n+-------+----------------+-------------------+-------------------+----------------+-----------+----------------+---------------------+------+-------------------+----------------+------------+--------------------+----------+\n|     SU|            null|2018-01-02 01:00:00|SU.1007[2018-11-13]|            null|       null|            null|                 null|  1007|2018-11-13 01:00:00|            null|        null|SU.1007[2018-11-1...|2018-11-13|\n+-------+----------------+-------------------+-------------------+----------------+-----------+----------------+---------------------+------+-------------------+----------------+------------+--------------------+----------+\nonly showing top 1 row\n\n+-------+----------------+-------------------+-------------------+----------------+-----------+----------------+---------------------+------+-------------------+----------------+------------+--------------------+----------+\n|carrier|departureDateDOW|          timestamp|           flightId|hoursToDeparture|isCancelled|marketingCarrier|marketingFlightNumber|number|numberDepartureDate|operatingCarrier|optGroupDate|           flightKey|   my_date|\n+-------+----------------+-------------------+-------------------+----------------+-----------+----------------+---------------------+------+-------------------+----------------+------------+--------------------+----------+\n|     SU|            null|2018-01-02 01:00:00|SU.1007[2018-11-13]|            null|       null|            null|                 null|  1007|2018-11-13 01:00:00|            null|        null|SU.1007[2018-11-1...|2018-11-13|\n+-------+----------------+-------------------+-------------------+----------------+-----------+----------------+---------------------+------+-------------------+----------------+------------+--------------------+----------+\nonly showing top 1 row\n\n"
     ],
     "output_type": "stream"
    }
   ],
   "source": [
    "\n",
    "Inventory = spark.sql(\"select * from archive where flightId='SU.1007[2018-11-13]'\")\n",
    "Inventory.show(1)\n",
    "\n",
    "Inventory = spark.sql(\"select * from archive\")\\\n",
    "    .where(col('flightId').like('SU.1007[2018-11-13]'))\n",
    "\n",
    "Inventory.show(1)\n"
   ],
   "metadata": {
    "collapsed": false,
    "pycharm": {
     "name": "#%%\n",
     "is_executing": false
    }
   }
  },
  {
   "cell_type": "code",
   "execution_count": 5,
   "outputs": [],
   "source": [
    "\n",
    "df.write.parquet(\"/Users/sg0218817/Downloads/NEW.parquet\")\n"
   ],
   "metadata": {
    "collapsed": false,
    "pycharm": {
     "name": "#%%\n",
     "is_executing": false
    }
   }
  },
  {
   "cell_type": "code",
   "execution_count": 6,
   "outputs": [],
   "source": [
    "\n",
    "spark.stop()\n"
   ],
   "metadata": {
    "pycharm": {
     "metadata": false,
     "name": "#%%\n",
     "is_executing": false
    }
   }
  }
 ],
 "metadata": {
  "language_info": {
   "codemirror_mode": {
    "name": "ipython",
    "version": 2
   },
   "file_extension": ".py",
   "mimetype": "text/x-python",
   "name": "python",
   "nbconvert_exporter": "python",
   "pygments_lexer": "ipython2",
   "version": "2.7.6"
  },
  "kernelspec": {
   "name": "python3",
   "language": "python",
   "display_name": "Python 3"
  },
  "pycharm": {
   "stem_cell": {
    "cell_type": "raw",
    "source": [],
    "metadata": {
     "collapsed": false
    }
   }
  }
 },
 "nbformat": 4,
 "nbformat_minor": 0
}