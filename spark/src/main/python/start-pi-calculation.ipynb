{
 "cells": [
  {
   "cell_type": "code",
   "execution_count": 2,
   "metadata": {
    "collapsed": true,
    "pycharm": {
     "is_executing": false
    }
   },
   "outputs": [],
   "source": "import random\n\nfrom pyspark import SparkContext\n\nsc = SparkContext(appName=\"EstimatePi\")\n"
  },
  {
   "cell_type": "code",
   "execution_count": 3,
   "outputs": [
    {
     "name": "stdout",
     "text": [
      "Pi is roughly 3.141240\n"
     ],
     "output_type": "stream"
    }
   ],
   "source": "\ndef inside(p):\n    x, y = random.random(), random.random()\n    return x*x + y*y < 1\n\nnum_samples = 1000000\ncount = sc.parallelize(range(0, num_samples)) \\\n    .filter(inside) \\\n    .count()\n\nprint(\"Pi is roughly %f\" % (4.0 * count / num_samples))\n",
   "metadata": {
    "pycharm": {
     "metadata": false,
     "name": "#%%\n",
     "is_executing": false
    }
   }
  },
  {
   "cell_type": "code",
   "execution_count": 4,
   "outputs": [],
   "source": "\nsc.stop()\n",
   "metadata": {
    "pycharm": {
     "metadata": false,
     "name": "#%%\n",
     "is_executing": false
    }
   }
  }
 ],
 "metadata": {
  "language_info": {
   "codemirror_mode": {
    "name": "ipython",
    "version": 2
   },
   "file_extension": ".py",
   "mimetype": "text/x-python",
   "name": "python",
   "nbconvert_exporter": "python",
   "pygments_lexer": "ipython2",
   "version": "2.7.6"
  },
  "kernelspec": {
   "name": "python3",
   "language": "python",
   "display_name": "Python 3"
  }
 },
 "nbformat": 4,
 "nbformat_minor": 0
}