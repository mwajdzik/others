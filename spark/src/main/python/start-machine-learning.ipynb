{
 "cells": [
  {
   "cell_type": "code",
   "execution_count": 1,
   "metadata": {
    "collapsed": true,
    "pycharm": {
     "is_executing": false
    }
   },
   "outputs": [
    {
     "data": {
      "text/plain": "<pyspark.sql.session.SparkSession at 0x10dc4d8d0>",
      "text/html": "\n            <div>\n                <p><b>SparkSession - in-memory</b></p>\n                \n        <div>\n            <p><b>SparkContext</b></p>\n\n            <p><a href=\"http://172.19.36.12:4040\">Spark UI</a></p>\n\n            <dl>\n              <dt>Version</dt>\n                <dd><code>v2.4.2</code></dd>\n              <dt>Master</dt>\n                <dd><code>local[*]</code></dd>\n              <dt>AppName</dt>\n                <dd><code>pyspark-shell</code></dd>\n            </dl>\n        </div>\n        \n            </div>\n        "
     },
     "metadata": {},
     "output_type": "execute_result",
     "execution_count": 1
    }
   ],
   "source": [
    "from pyspark.ml import Pipeline\n",
    "from pyspark.ml.clustering import KMeans\n",
    "from pyspark.ml.feature import OneHotEncoder, StringIndexer, VectorAssembler\n",
    "from pyspark.sql import SparkSession\n",
    "from pyspark.sql.functions import col, date_format, rand\n",
    "\n",
    "# http://localhost:4040\n",
    "spark = SparkSession.builder.getOrCreate()\n",
    "spark.conf.set('spark.sql.shuffle.partitions', '5')\n",
    "spark\n"
   ]
  },
  {
   "cell_type": "code",
   "execution_count": 2,
   "outputs": [
    {
     "name": "stdout",
     "text": [
      "+---------+---------+-----------------------------------+--------+-------------------+---------+----------+--------------+\n|InvoiceNo|StockCode|Description                        |Quantity|InvoiceDate        |UnitPrice|CustomerID|Country       |\n+---------+---------+-----------------------------------+--------+-------------------+---------+----------+--------------+\n|537226   |22811    |SET OF 6 T-LIGHTS CACTI            |6       |2010-12-06 08:34:00|2.95     |15987.0   |United Kingdom|\n|537226   |21713    |CITRONELLA CANDLE FLOWERPOT        |8       |2010-12-06 08:34:00|2.1      |15987.0   |United Kingdom|\n|537226   |22927    |GREEN GIANT GARDEN THERMOMETER     |2       |2010-12-06 08:34:00|5.95     |15987.0   |United Kingdom|\n|537226   |20802    |SMALL GLASS SUNDAE DISH CLEAR      |6       |2010-12-06 08:34:00|1.65     |15987.0   |United Kingdom|\n|537226   |22052    |VINTAGE CARAVAN GIFT WRAP          |25      |2010-12-06 08:34:00|0.42     |15987.0   |United Kingdom|\n|537226   |22705    |WRAP GREEN PEARS                   |25      |2010-12-06 08:34:00|0.42     |15987.0   |United Kingdom|\n|537226   |20781    |GOLD EAR MUFF HEADPHONES           |2       |2010-12-06 08:34:00|5.49     |15987.0   |United Kingdom|\n|537226   |22310    |IVORY KNITTED MUG COSY             |6       |2010-12-06 08:34:00|1.65     |15987.0   |United Kingdom|\n|537226   |22389    |PAPERWEIGHT SAVE THE PLANET        |6       |2010-12-06 08:34:00|2.55     |15987.0   |United Kingdom|\n|537227   |22941    |CHRISTMAS LIGHTS 10 REINDEER       |2       |2010-12-06 08:42:00|8.5      |17677.0   |United Kingdom|\n|537227   |22696    |WICKER WREATH LARGE                |6       |2010-12-06 08:42:00|1.95     |17677.0   |United Kingdom|\n|537227   |22193    |RED DINER WALL CLOCK               |2       |2010-12-06 08:42:00|8.5      |17677.0   |United Kingdom|\n|537227   |21212    |PACK OF 72 RETROSPOT CAKE CASES    |120     |2010-12-06 08:42:00|0.42     |17677.0   |United Kingdom|\n|537227   |21977    |PACK OF 60 PINK PAISLEY CAKE CASES |48      |2010-12-06 08:42:00|0.55     |17677.0   |United Kingdom|\n|537227   |84991    |60 TEATIME FAIRY CAKE CASES        |48      |2010-12-06 08:42:00|0.55     |17677.0   |United Kingdom|\n|537227   |21213    |PACK OF 72 SKULL CAKE CASES        |48      |2010-12-06 08:42:00|0.55     |17677.0   |United Kingdom|\n|537227   |21080    |SET/20 RED RETROSPOT PAPER NAPKINS |12      |2010-12-06 08:42:00|0.85     |17677.0   |United Kingdom|\n|537227   |22632    |HAND WARMER RED RETROSPOT          |48      |2010-12-06 08:42:00|2.1      |17677.0   |United Kingdom|\n|537227   |22315    |200 RED + WHITE BENDY STRAWS       |12      |2010-12-06 08:42:00|1.25     |17677.0   |United Kingdom|\n|537227   |21232    |STRAWBERRY CERAMIC TRINKET BOX     |12      |2010-12-06 08:42:00|1.25     |17677.0   |United Kingdom|\n+---------+---------+-----------------------------------+--------+-------------------+---------+----------+--------------+\nonly showing top 20 rows\n\nroot\n |-- InvoiceNo: string (nullable = true)\n |-- StockCode: string (nullable = true)\n |-- Description: string (nullable = true)\n |-- Quantity: integer (nullable = true)\n |-- InvoiceDate: timestamp (nullable = true)\n |-- UnitPrice: double (nullable = true)\n |-- CustomerID: double (nullable = true)\n |-- Country: string (nullable = true)\n\n"
     ],
     "output_type": "stream"
    }
   ],
   "source": [
    "df = spark.read\\\n",
    "    .format('csv')\\\n",
    "    .option('header', 'true')\\\n",
    "    .option('inferSchema', 'true')\\\n",
    "    .load('../data/retail-data/*.csv')\n",
    "\n",
    "df.createOrReplaceTempView('retail_data')\n",
    "df_schema = df.schema\n",
    "\n",
    "df.show(truncate=False)\n",
    "df.printSchema()\n"
   ],
   "metadata": {
    "pycharm": {
     "metadata": false,
     "name": "#%%\n",
     "is_executing": false
    }
   }
  },
  {
   "cell_type": "code",
   "execution_count": 3,
   "outputs": [
    {
     "name": "stdout",
     "text": [
      "+---------+---------+-----------------------------------+--------+-------------------+---------+----------+--------------+-----------+\n|InvoiceNo|StockCode|Description                        |Quantity|InvoiceDate        |UnitPrice|CustomerID|Country       |day_of_week|\n+---------+---------+-----------------------------------+--------+-------------------+---------+----------+--------------+-----------+\n|537226   |22811    |SET OF 6 T-LIGHTS CACTI            |6       |2010-12-06 08:34:00|2.95     |15987.0   |United Kingdom|Monday     |\n|537226   |21713    |CITRONELLA CANDLE FLOWERPOT        |8       |2010-12-06 08:34:00|2.1      |15987.0   |United Kingdom|Monday     |\n|537226   |22927    |GREEN GIANT GARDEN THERMOMETER     |2       |2010-12-06 08:34:00|5.95     |15987.0   |United Kingdom|Monday     |\n|537226   |20802    |SMALL GLASS SUNDAE DISH CLEAR      |6       |2010-12-06 08:34:00|1.65     |15987.0   |United Kingdom|Monday     |\n|537226   |22052    |VINTAGE CARAVAN GIFT WRAP          |25      |2010-12-06 08:34:00|0.42     |15987.0   |United Kingdom|Monday     |\n|537226   |22705    |WRAP GREEN PEARS                   |25      |2010-12-06 08:34:00|0.42     |15987.0   |United Kingdom|Monday     |\n|537226   |20781    |GOLD EAR MUFF HEADPHONES           |2       |2010-12-06 08:34:00|5.49     |15987.0   |United Kingdom|Monday     |\n|537226   |22310    |IVORY KNITTED MUG COSY             |6       |2010-12-06 08:34:00|1.65     |15987.0   |United Kingdom|Monday     |\n|537226   |22389    |PAPERWEIGHT SAVE THE PLANET        |6       |2010-12-06 08:34:00|2.55     |15987.0   |United Kingdom|Monday     |\n|537227   |22941    |CHRISTMAS LIGHTS 10 REINDEER       |2       |2010-12-06 08:42:00|8.5      |17677.0   |United Kingdom|Monday     |\n|537227   |22696    |WICKER WREATH LARGE                |6       |2010-12-06 08:42:00|1.95     |17677.0   |United Kingdom|Monday     |\n|537227   |22193    |RED DINER WALL CLOCK               |2       |2010-12-06 08:42:00|8.5      |17677.0   |United Kingdom|Monday     |\n|537227   |21212    |PACK OF 72 RETROSPOT CAKE CASES    |120     |2010-12-06 08:42:00|0.42     |17677.0   |United Kingdom|Monday     |\n|537227   |21977    |PACK OF 60 PINK PAISLEY CAKE CASES |48      |2010-12-06 08:42:00|0.55     |17677.0   |United Kingdom|Monday     |\n|537227   |84991    |60 TEATIME FAIRY CAKE CASES        |48      |2010-12-06 08:42:00|0.55     |17677.0   |United Kingdom|Monday     |\n|537227   |21213    |PACK OF 72 SKULL CAKE CASES        |48      |2010-12-06 08:42:00|0.55     |17677.0   |United Kingdom|Monday     |\n|537227   |21080    |SET/20 RED RETROSPOT PAPER NAPKINS |12      |2010-12-06 08:42:00|0.85     |17677.0   |United Kingdom|Monday     |\n|537227   |22632    |HAND WARMER RED RETROSPOT          |48      |2010-12-06 08:42:00|2.1      |17677.0   |United Kingdom|Monday     |\n|537227   |22315    |200 RED + WHITE BENDY STRAWS       |12      |2010-12-06 08:42:00|1.25     |17677.0   |United Kingdom|Monday     |\n|537227   |21232    |STRAWBERRY CERAMIC TRINKET BOX     |12      |2010-12-06 08:42:00|1.25     |17677.0   |United Kingdom|Monday     |\n+---------+---------+-----------------------------------+--------+-------------------+---------+----------+--------------+-----------+\nonly showing top 20 rows\n\n"
     ],
     "output_type": "stream"
    }
   ],
   "source": [
    "prepped_df = df \\\n",
    "    .na.fill(0) \\\n",
    "    .withColumn('day_of_week', date_format(col('InvoiceDate'), 'EEEE')) \\\n",
    "    .coalesce(5)\n",
    "\n",
    "prepped_df\\\n",
    "    .show(truncate=False)\n"
   ],
   "metadata": {
    "collapsed": false,
    "pycharm": {
     "name": "#%%\n",
     "is_executing": false
    }
   }
  },
  {
   "cell_type": "code",
   "execution_count": 4,
   "outputs": [
    {
     "name": "stdout",
     "text": [
      "25281\n",
      "5821\n"
     ],
     "output_type": "stream"
    }
   ],
   "source": [
    "train_df = prepped_df.where('InvoiceDate < \"2010-12-12\"')\n",
    "test_df = prepped_df.where('InvoiceDate >= \"2010-12-12\"')\n",
    "\n",
    "print(train_df.count())\n",
    "print(test_df.count())\n"
   ],
   "metadata": {
    "collapsed": false,
    "pycharm": {
     "name": "#%%\n",
     "is_executing": false
    }
   }
  },
  {
   "cell_type": "code",
   "execution_count": 5,
   "outputs": [
    {
     "data": {
      "text/plain": "689127.9930536919"
     },
     "metadata": {},
     "output_type": "execute_result",
     "execution_count": 5
    }
   ],
   "source": [
    "indexer = StringIndexer() \\\n",
    "    .setInputCol('day_of_week') \\\n",
    "    .setOutputCol('day_of_week_index')\n",
    "\n",
    "encoder = OneHotEncoder() \\\n",
    "    .setInputCol('day_of_week_index') \\\n",
    "    .setOutputCol('day_of_week_encoded')\n",
    "\n",
    "vector_assembler = VectorAssembler() \\\n",
    "    .setInputCols(['UnitPrice', 'Quantity', 'day_of_week_encoded']) \\\n",
    "    .setOutputCol('features')\n",
    "\n",
    "transformation_pipeline = Pipeline() \\\n",
    "    .setStages([indexer, encoder, vector_assembler])\n",
    "\n",
    "fitted_pipeline = transformation_pipeline.fit(train_df)\n",
    "transformed_training = fitted_pipeline.transform(train_df)\n",
    "\n",
    "transformed_training.cache()\n",
    "\n",
    "kmeans = KMeans() \\\n",
    "    .setK(20) \\\n",
    "    .setSeed(1)\n",
    "\n",
    "km_model = kmeans.fit(transformed_training)\n",
    "\n",
    "transformed_test = fitted_pipeline.transform(test_df)\n",
    "\n",
    "km_model.computeCost(transformed_test)"
   ],
   "metadata": {
    "collapsed": false,
    "pycharm": {
     "name": "#%%\n",
     "is_executing": false
    }
   }
  }
 ],
 "metadata": {
  "language_info": {
   "codemirror_mode": {
    "name": "ipython",
    "version": 2
   },
   "file_extension": ".py",
   "mimetype": "text/x-python",
   "name": "python",
   "nbconvert_exporter": "python",
   "pygments_lexer": "ipython2",
   "version": "2.7.6"
  },
  "kernelspec": {
   "name": "pycharm-9b5e08a5",
   "language": "python",
   "display_name": "PyCharm (spark)"
  },
  "pycharm": {
   "stem_cell": {
    "cell_type": "raw",
    "source": [],
    "metadata": {
     "collapsed": false
    }
   }
  }
 },
 "nbformat": 4,
 "nbformat_minor": 0
}